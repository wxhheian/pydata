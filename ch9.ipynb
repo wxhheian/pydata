{
 "cells": [
  {
   "cell_type": "markdown",
   "metadata": {},
   "source": [
    "# Plotting and Visualization"
   ]
  },
  {
   "cell_type": "code",
   "execution_count": null,
   "metadata": {},
   "outputs": [],
   "source": [
    "%matplotlib notebook"
   ]
  },
  {
   "cell_type": "markdown",
   "metadata": {},
   "source": [
    "## A Brief matplotlib API Primer"
   ]
  },
  {
   "cell_type": "code",
   "execution_count": null,
   "metadata": {},
   "outputs": [],
   "source": [
    "import matplotlib.pyplot as plt"
   ]
  },
  {
   "cell_type": "code",
   "execution_count": null,
   "metadata": {},
   "outputs": [],
   "source": [
    "#在jupyter notebook中运行%matplotlib notebook或在IPython中运行%matplotlib\n",
    "import numpy as np\n",
    "data = np.arange(10)\n",
    "data"
   ]
  },
  {
   "cell_type": "code",
   "execution_count": null,
   "metadata": {},
   "outputs": [],
   "source": [
    "plt.plot(data)"
   ]
  },
  {
   "cell_type": "markdown",
   "metadata": {},
   "source": [
    "### Figure Subplot"
   ]
  },
  {
   "cell_type": "code",
   "execution_count": null,
   "metadata": {},
   "outputs": [],
   "source": [
    "#matplotlib的图像都位于Figure对象中，可以用plt.figure创建一个新的Figure\n",
    "fig = plt.figure()"
   ]
  },
  {
   "cell_type": "code",
   "execution_count": null,
   "metadata": {},
   "outputs": [],
   "source": [
    "#不能通过空Figure绘图，必须用add_subplot创建一个或多个subplot才行\n",
    "ax1 = fig.add_subplot(2,2,1)\n",
    "#图像是2 ✖️ 2的，且当前选中的是4个subplot中的第一个(编号从1开始)\n",
    "#如果再把后面两个subplot也创建出来\n",
    "ax2 = fig.add_subplot(2,2,2)"
   ]
  },
  {
   "cell_type": "code",
   "execution_count": null,
   "metadata": {},
   "outputs": [],
   "source": [
    "ax3 = fig.add_subplot(2,2,3)"
   ]
  },
  {
   "cell_type": "code",
   "execution_count": null,
   "metadata": {},
   "outputs": [],
   "source": [
    "plt.plot(np.random.randn(50).cumsum(),'k--')\n",
    "#matplotlib会在最后一个用过的subplot上进行绘制（如果没有则创建一个subplot）\n",
    "#'k--' 表示黑色（black）虚线图"
   ]
  },
  {
   "cell_type": "code",
   "execution_count": null,
   "metadata": {},
   "outputs": [],
   "source": [
    "#fig.add_subplot所返回的对象是AxesSubplot对象，直接调用它们的实例可以对其它空着的格子画图了\n",
    "_ = ax1.hist(np.random.randn(100),bins=20,color='k', alpha=0.3)\n",
    "#alpha参数是指图像的透明度"
   ]
  },
  {
   "cell_type": "code",
   "execution_count": null,
   "metadata": {},
   "outputs": [],
   "source": [
    "#ax1.clear()"
   ]
  },
  {
   "cell_type": "code",
   "execution_count": null,
   "metadata": {},
   "outputs": [],
   "source": [
    "ax2.scatter(np.arange(30),np.arange(30) + 3 * np.random.randn(30))"
   ]
  },
  {
   "cell_type": "code",
   "execution_count": null,
   "metadata": {},
   "outputs": [],
   "source": [
    "#matplotlib有一个更为方便的方法plt.subplots，它可以创建一个新的figure\n",
    "#并返回一个含有已创建的subplot对象的numpy数组\n",
    "fig,axes = plt.subplots(2,3)"
   ]
  },
  {
   "cell_type": "code",
   "execution_count": null,
   "metadata": {},
   "outputs": [],
   "source": [
    "axes"
   ]
  },
  {
   "cell_type": "code",
   "execution_count": null,
   "metadata": {},
   "outputs": [],
   "source": [
    "fig"
   ]
  },
  {
   "cell_type": "code",
   "execution_count": null,
   "metadata": {},
   "outputs": [],
   "source": [
    "#可以对axes进行索引\n",
    "axes[0,1]"
   ]
  },
  {
   "cell_type": "code",
   "execution_count": null,
   "metadata": {},
   "outputs": [],
   "source": [
    "#plt.subplots(nrows,ncols,sharex,sharey)参数有sharex,sharey\n",
    "#sharex使所有的subplot有相同的x轴刻度"
   ]
  },
  {
   "cell_type": "markdown",
   "metadata": {},
   "source": [
    "### Adjusting the spacing around subplots"
   ]
  },
  {
   "cell_type": "code",
   "execution_count": null,
   "metadata": {},
   "outputs": [],
   "source": [
    "#matplotlib会在subplot外围留下一定的边距，并在subplot之间留下间距\n",
    "#subplots_adjust可以修改间距\n",
    "#plt.subplots_adjust 是个顶级函数"
   ]
  },
  {
   "cell_type": "code",
   "execution_count": null,
   "metadata": {},
   "outputs": [],
   "source": [
    "#subplots_adjust(left=None, bottom=None, right=None, top=None,\n",
    "#                wspace=None, hspace=None)\n",
    "#wspace用于控制subplot之间的宽度，hspace用于控制subplot之间的高度"
   ]
  },
  {
   "cell_type": "code",
   "execution_count": null,
   "metadata": {},
   "outputs": [],
   "source": [
    "fig,axes = plt.subplots(2,2,sharex=True,sharey=True)\n",
    "for i in range(2):\n",
    "    for j in range(2):\n",
    "        axes[i,j].hist(np.random.randn(500),bins=50,color='k', alpha=0.5)\n",
    "plt.subplots_adjust(wspace=0,hspace=0)"
   ]
  },
  {
   "cell_type": "markdown",
   "metadata": {},
   "source": [
    "### 颜色，标记，线性"
   ]
  },
  {
   "cell_type": "code",
   "execution_count": null,
   "metadata": {},
   "outputs": [],
   "source": [
    "#plot函数接受一组X和Y坐标，还接受表示颜色和线性的字符串缩写\n",
    "#ax.plot(x,y,'g--')  g:green\n",
    "#'g--'是在一个字符串中同时指定颜色和线性\n",
    "#ax.plot(x,y,linestyle='--',color='g')  分别指定"
   ]
  },
  {
   "cell_type": "code",
   "execution_count": null,
   "metadata": {},
   "outputs": [],
   "source": [
    "plt.plot?"
   ]
  },
  {
   "cell_type": "code",
   "execution_count": null,
   "metadata": {},
   "outputs": [],
   "source": [
    "#线图可以使用标记来强调数据点，标记类型和线性必须放在颜色后面\n",
    "%matplotlib inline\n",
    "plt.plot(np.random.randn(30).cumsum(),'ko--')\n",
    "#'ko--'  k:black o:用o标记强调数据  --：线性"
   ]
  },
  {
   "cell_type": "code",
   "execution_count": null,
   "metadata": {},
   "outputs": [],
   "source": [
    "plt.plot(np.random.randn(30).cumsum(),color='k',linestyle='dashed',marker='o')\n",
    "#dashed虚线"
   ]
  },
  {
   "cell_type": "code",
   "execution_count": null,
   "metadata": {},
   "outputs": [],
   "source": [
    "#在线性图中，非实际数据点是按线性方式插值的，可以通过drawstyle参数修改\n",
    "data = np.random.randn(30).cumsum()\n",
    "plt.plot(data,'k--',label='Default')\n",
    "plt.plot(data,'k--',drawstyle='steps-post',label='steps-post')\n",
    "#调用legend来创建图例\n",
    "plt.legend(loc='best')"
   ]
  },
  {
   "cell_type": "markdown",
   "metadata": {},
   "source": [
    "### 刻度，标签和图例"
   ]
  },
  {
   "cell_type": "code",
   "execution_count": null,
   "metadata": {},
   "outputs": [],
   "source": [
    "%matplotlib notebook\n",
    "import matplotlib.pyplot as plt\n",
    "fig = plt.figure()"
   ]
  },
  {
   "cell_type": "code",
   "execution_count": null,
   "metadata": {},
   "outputs": [],
   "source": [
    "ax = fig.add_subplot(1,1,1)"
   ]
  },
  {
   "cell_type": "code",
   "execution_count": null,
   "metadata": {},
   "outputs": [],
   "source": [
    "import numpy as np\n",
    "ax.plot(np.random.randn(1000).cumsum())"
   ]
  },
  {
   "cell_type": "code",
   "execution_count": null,
   "metadata": {},
   "outputs": [],
   "source": [
    "#要改变x轴刻度，使用set_xticks和set_xticklabels\n",
    "#set_xticks告诉matplotlib刻度放在数据范围内中的哪些位置\n",
    "#默认下，这些位置也是刻度标签的，但可以通过set_xticklabels将其他内容作为标签\n",
    "ticks = ax.set_xticks([0,250,500,750,1000])"
   ]
  },
  {
   "cell_type": "code",
   "execution_count": null,
   "metadata": {},
   "outputs": [],
   "source": [
    "labels = ax.set_xticklabels(['one','two','three','four','five'],\n",
    "                           rotation=30,fontsize='small')\n",
    "#rotation为x刻度标签倾斜30度，fontsize字体为small"
   ]
  },
  {
   "cell_type": "code",
   "execution_count": null,
   "metadata": {},
   "outputs": [],
   "source": [
    "ax.set_title('My first matplotlib plot')"
   ]
  },
  {
   "cell_type": "code",
   "execution_count": null,
   "metadata": {},
   "outputs": [],
   "source": [
    "#为x轴设置一个名称\n",
    "ax.set_xlabel('Stage')"
   ]
  },
  {
   "cell_type": "code",
   "execution_count": null,
   "metadata": {},
   "outputs": [],
   "source": [
    "#对于轴的类有集合方法，可以批量设定绘图选项\n",
    "props = {\n",
    "    'yticks':[-30,-20,-10,0,10,20,30],\n",
    "    'ylabel':'Value',\n",
    "    'title':'My First Matplotlib Plot'    \n",
    "}\n",
    "ax.set(**props)"
   ]
  },
  {
   "cell_type": "markdown",
   "metadata": {},
   "source": [
    "### Adding legends"
   ]
  },
  {
   "cell_type": "code",
   "execution_count": null,
   "metadata": {},
   "outputs": [],
   "source": [
    "#图例添加的方式有很多种，最简单的方式是在plot的时候传入label参数\n",
    "fig = plt.figure()\n",
    "ax = fig.add_subplot(1,1,1)\n",
    "ax.plot(np.random.randn(1000).cumsum(),'k',label='one')\n",
    "ax.plot(np.random.randn(1000).cumsum(),'k--',label='two')\n",
    "ax.plot(np.random.randn(1000).cumsum(),'k.',label='three')"
   ]
  },
  {
   "cell_type": "code",
   "execution_count": null,
   "metadata": {},
   "outputs": [],
   "source": [
    "#在plot中添加label参数之后，可以调用ax.legend()或plt.legend()来创建图例\n",
    "ax.legend(loc='best')"
   ]
  },
  {
   "cell_type": "code",
   "execution_count": null,
   "metadata": {},
   "outputs": [],
   "source": [
    "ax.legend?"
   ]
  },
  {
   "cell_type": "code",
   "execution_count": null,
   "metadata": {},
   "outputs": [],
   "source": [
    "#增加图例，也可以单独增加label\n",
    "fig = plt.figure()\n",
    "ax = fig.add_subplot(1,1,1)\n",
    "line1, = ax.plot(np.random.randn(1000).cumsum(),'k')\n",
    "line2, = ax.plot(np.random.randn(1000).cumsum(),'k--')\n",
    "line3, = ax.plot(np.random.randn(1000).cumsum(),'k.')\n",
    "line1.set_label('one')\n",
    "line2.set_label('two')\n",
    "line3.set_label('three')\n",
    "ax.legend()"
   ]
  },
  {
   "cell_type": "code",
   "execution_count": null,
   "metadata": {},
   "outputs": [],
   "source": [
    "#如果要去除label,则传入label='nolegend'"
   ]
  },
  {
   "cell_type": "markdown",
   "metadata": {},
   "source": [
    "### Annotations and Drawing on a Subplot"
   ]
  },
  {
   "cell_type": "code",
   "execution_count": null,
   "metadata": {},
   "outputs": [],
   "source": [
    "#注解和文字可以通过text，arrow和annotate函数进行\n",
    "#text可以将文本绘制在指定坐标(x,y)\n",
    "#ax.text(x,y,'Hello world',family='monospace',fontsize=10)\n",
    "#注解中既可以有文本，也可以有箭头"
   ]
  },
  {
   "cell_type": "code",
   "execution_count": 1,
   "metadata": {},
   "outputs": [
    {
     "data": {
      "text/plain": [
       "1990-02-01     328.79\n",
       "1990-02-02     330.92\n",
       "1990-02-05     331.85\n",
       "1990-02-06     329.66\n",
       "1990-02-07     333.75\n",
       "1990-02-08     332.96\n",
       "1990-02-09     333.62\n",
       "1990-02-12     330.08\n",
       "1990-02-13     331.02\n",
       "1990-02-14     332.01\n",
       "1990-02-15     334.89\n",
       "1990-02-16     332.72\n",
       "1990-02-20     327.99\n",
       "1990-02-21     327.67\n",
       "1990-02-22     325.70\n",
       "1990-02-23     324.15\n",
       "1990-02-26     328.67\n",
       "1990-02-27     330.26\n",
       "1990-02-28     331.89\n",
       "1990-03-01     332.74\n",
       "1990-03-02     335.54\n",
       "1990-03-05     333.74\n",
       "1990-03-06     337.93\n",
       "1990-03-07     336.95\n",
       "1990-03-08     340.27\n",
       "1990-03-09     337.93\n",
       "1990-03-12     338.67\n",
       "1990-03-13     336.00\n",
       "1990-03-14     336.87\n",
       "1990-03-15     338.07\n",
       "               ...   \n",
       "2011-09-02    1173.97\n",
       "2011-09-06    1165.24\n",
       "2011-09-07    1198.62\n",
       "2011-09-08    1185.90\n",
       "2011-09-09    1154.23\n",
       "2011-09-12    1162.27\n",
       "2011-09-13    1172.87\n",
       "2011-09-14    1188.68\n",
       "2011-09-15    1209.11\n",
       "2011-09-16    1216.01\n",
       "2011-09-19    1204.09\n",
       "2011-09-20    1202.09\n",
       "2011-09-21    1166.76\n",
       "2011-09-22    1129.56\n",
       "2011-09-23    1136.43\n",
       "2011-09-26    1162.95\n",
       "2011-09-27    1175.38\n",
       "2011-09-28    1151.06\n",
       "2011-09-29    1160.40\n",
       "2011-09-30    1131.42\n",
       "2011-10-03    1099.23\n",
       "2011-10-04    1123.95\n",
       "2011-10-05    1144.03\n",
       "2011-10-06    1164.97\n",
       "2011-10-07    1155.46\n",
       "2011-10-10    1194.89\n",
       "2011-10-11    1195.54\n",
       "2011-10-12    1207.25\n",
       "2011-10-13    1203.66\n",
       "2011-10-14    1224.58\n",
       "Name: SPX, Length: 5472, dtype: float64"
      ]
     },
     "execution_count": 1,
     "metadata": {},
     "output_type": "execute_result"
    }
   ],
   "source": [
    "import pandas as pd\n",
    "data = pd.read_csv('examples/spx.csv',index_col=0, parse_dates=True)\n",
    "spx = data['SPX']\n",
    "spx"
   ]
  },
  {
   "cell_type": "code",
   "execution_count": 20,
   "metadata": {},
   "outputs": [
    {
     "data": {
      "application/javascript": [
       "/* Put everything inside the global mpl namespace */\n",
       "window.mpl = {};\n",
       "\n",
       "\n",
       "mpl.get_websocket_type = function() {\n",
       "    if (typeof(WebSocket) !== 'undefined') {\n",
       "        return WebSocket;\n",
       "    } else if (typeof(MozWebSocket) !== 'undefined') {\n",
       "        return MozWebSocket;\n",
       "    } else {\n",
       "        alert('Your browser does not have WebSocket support. ' +\n",
       "              'Please try Chrome, Safari or Firefox ≥ 6. ' +\n",
       "              'Firefox 4 and 5 are also supported but you ' +\n",
       "              'have to enable WebSockets in about:config.');\n",
       "    };\n",
       "}\n",
       "\n",
       "mpl.figure = function(figure_id, websocket, ondownload, parent_element) {\n",
       "    this.id = figure_id;\n",
       "\n",
       "    this.ws = websocket;\n",
       "\n",
       "    this.supports_binary = (this.ws.binaryType != undefined);\n",
       "\n",
       "    if (!this.supports_binary) {\n",
       "        var warnings = document.getElementById(\"mpl-warnings\");\n",
       "        if (warnings) {\n",
       "            warnings.style.display = 'block';\n",
       "            warnings.textContent = (\n",
       "                \"This browser does not support binary websocket messages. \" +\n",
       "                    \"Performance may be slow.\");\n",
       "        }\n",
       "    }\n",
       "\n",
       "    this.imageObj = new Image();\n",
       "\n",
       "    this.context = undefined;\n",
       "    this.message = undefined;\n",
       "    this.canvas = undefined;\n",
       "    this.rubberband_canvas = undefined;\n",
       "    this.rubberband_context = undefined;\n",
       "    this.format_dropdown = undefined;\n",
       "\n",
       "    this.image_mode = 'full';\n",
       "\n",
       "    this.root = $('<div/>');\n",
       "    this._root_extra_style(this.root)\n",
       "    this.root.attr('style', 'display: inline-block');\n",
       "\n",
       "    $(parent_element).append(this.root);\n",
       "\n",
       "    this._init_header(this);\n",
       "    this._init_canvas(this);\n",
       "    this._init_toolbar(this);\n",
       "\n",
       "    var fig = this;\n",
       "\n",
       "    this.waiting = false;\n",
       "\n",
       "    this.ws.onopen =  function () {\n",
       "            fig.send_message(\"supports_binary\", {value: fig.supports_binary});\n",
       "            fig.send_message(\"send_image_mode\", {});\n",
       "            if (mpl.ratio != 1) {\n",
       "                fig.send_message(\"set_dpi_ratio\", {'dpi_ratio': mpl.ratio});\n",
       "            }\n",
       "            fig.send_message(\"refresh\", {});\n",
       "        }\n",
       "\n",
       "    this.imageObj.onload = function() {\n",
       "            if (fig.image_mode == 'full') {\n",
       "                // Full images could contain transparency (where diff images\n",
       "                // almost always do), so we need to clear the canvas so that\n",
       "                // there is no ghosting.\n",
       "                fig.context.clearRect(0, 0, fig.canvas.width, fig.canvas.height);\n",
       "            }\n",
       "            fig.context.drawImage(fig.imageObj, 0, 0);\n",
       "        };\n",
       "\n",
       "    this.imageObj.onunload = function() {\n",
       "        fig.ws.close();\n",
       "    }\n",
       "\n",
       "    this.ws.onmessage = this._make_on_message_function(this);\n",
       "\n",
       "    this.ondownload = ondownload;\n",
       "}\n",
       "\n",
       "mpl.figure.prototype._init_header = function() {\n",
       "    var titlebar = $(\n",
       "        '<div class=\"ui-dialog-titlebar ui-widget-header ui-corner-all ' +\n",
       "        'ui-helper-clearfix\"/>');\n",
       "    var titletext = $(\n",
       "        '<div class=\"ui-dialog-title\" style=\"width: 100%; ' +\n",
       "        'text-align: center; padding: 3px;\"/>');\n",
       "    titlebar.append(titletext)\n",
       "    this.root.append(titlebar);\n",
       "    this.header = titletext[0];\n",
       "}\n",
       "\n",
       "\n",
       "\n",
       "mpl.figure.prototype._canvas_extra_style = function(canvas_div) {\n",
       "\n",
       "}\n",
       "\n",
       "\n",
       "mpl.figure.prototype._root_extra_style = function(canvas_div) {\n",
       "\n",
       "}\n",
       "\n",
       "mpl.figure.prototype._init_canvas = function() {\n",
       "    var fig = this;\n",
       "\n",
       "    var canvas_div = $('<div/>');\n",
       "\n",
       "    canvas_div.attr('style', 'position: relative; clear: both; outline: 0');\n",
       "\n",
       "    function canvas_keyboard_event(event) {\n",
       "        return fig.key_event(event, event['data']);\n",
       "    }\n",
       "\n",
       "    canvas_div.keydown('key_press', canvas_keyboard_event);\n",
       "    canvas_div.keyup('key_release', canvas_keyboard_event);\n",
       "    this.canvas_div = canvas_div\n",
       "    this._canvas_extra_style(canvas_div)\n",
       "    this.root.append(canvas_div);\n",
       "\n",
       "    var canvas = $('<canvas/>');\n",
       "    canvas.addClass('mpl-canvas');\n",
       "    canvas.attr('style', \"left: 0; top: 0; z-index: 0; outline: 0\")\n",
       "\n",
       "    this.canvas = canvas[0];\n",
       "    this.context = canvas[0].getContext(\"2d\");\n",
       "\n",
       "    var backingStore = this.context.backingStorePixelRatio ||\n",
       "\tthis.context.webkitBackingStorePixelRatio ||\n",
       "\tthis.context.mozBackingStorePixelRatio ||\n",
       "\tthis.context.msBackingStorePixelRatio ||\n",
       "\tthis.context.oBackingStorePixelRatio ||\n",
       "\tthis.context.backingStorePixelRatio || 1;\n",
       "\n",
       "    mpl.ratio = (window.devicePixelRatio || 1) / backingStore;\n",
       "\n",
       "    var rubberband = $('<canvas/>');\n",
       "    rubberband.attr('style', \"position: absolute; left: 0; top: 0; z-index: 1;\")\n",
       "\n",
       "    var pass_mouse_events = true;\n",
       "\n",
       "    canvas_div.resizable({\n",
       "        start: function(event, ui) {\n",
       "            pass_mouse_events = false;\n",
       "        },\n",
       "        resize: function(event, ui) {\n",
       "            fig.request_resize(ui.size.width, ui.size.height);\n",
       "        },\n",
       "        stop: function(event, ui) {\n",
       "            pass_mouse_events = true;\n",
       "            fig.request_resize(ui.size.width, ui.size.height);\n",
       "        },\n",
       "    });\n",
       "\n",
       "    function mouse_event_fn(event) {\n",
       "        if (pass_mouse_events)\n",
       "            return fig.mouse_event(event, event['data']);\n",
       "    }\n",
       "\n",
       "    rubberband.mousedown('button_press', mouse_event_fn);\n",
       "    rubberband.mouseup('button_release', mouse_event_fn);\n",
       "    // Throttle sequential mouse events to 1 every 20ms.\n",
       "    rubberband.mousemove('motion_notify', mouse_event_fn);\n",
       "\n",
       "    rubberband.mouseenter('figure_enter', mouse_event_fn);\n",
       "    rubberband.mouseleave('figure_leave', mouse_event_fn);\n",
       "\n",
       "    canvas_div.on(\"wheel\", function (event) {\n",
       "        event = event.originalEvent;\n",
       "        event['data'] = 'scroll'\n",
       "        if (event.deltaY < 0) {\n",
       "            event.step = 1;\n",
       "        } else {\n",
       "            event.step = -1;\n",
       "        }\n",
       "        mouse_event_fn(event);\n",
       "    });\n",
       "\n",
       "    canvas_div.append(canvas);\n",
       "    canvas_div.append(rubberband);\n",
       "\n",
       "    this.rubberband = rubberband;\n",
       "    this.rubberband_canvas = rubberband[0];\n",
       "    this.rubberband_context = rubberband[0].getContext(\"2d\");\n",
       "    this.rubberband_context.strokeStyle = \"#000000\";\n",
       "\n",
       "    this._resize_canvas = function(width, height) {\n",
       "        // Keep the size of the canvas, canvas container, and rubber band\n",
       "        // canvas in synch.\n",
       "        canvas_div.css('width', width)\n",
       "        canvas_div.css('height', height)\n",
       "\n",
       "        canvas.attr('width', width * mpl.ratio);\n",
       "        canvas.attr('height', height * mpl.ratio);\n",
       "        canvas.attr('style', 'width: ' + width + 'px; height: ' + height + 'px;');\n",
       "\n",
       "        rubberband.attr('width', width);\n",
       "        rubberband.attr('height', height);\n",
       "    }\n",
       "\n",
       "    // Set the figure to an initial 600x600px, this will subsequently be updated\n",
       "    // upon first draw.\n",
       "    this._resize_canvas(600, 600);\n",
       "\n",
       "    // Disable right mouse context menu.\n",
       "    $(this.rubberband_canvas).bind(\"contextmenu\",function(e){\n",
       "        return false;\n",
       "    });\n",
       "\n",
       "    function set_focus () {\n",
       "        canvas.focus();\n",
       "        canvas_div.focus();\n",
       "    }\n",
       "\n",
       "    window.setTimeout(set_focus, 100);\n",
       "}\n",
       "\n",
       "mpl.figure.prototype._init_toolbar = function() {\n",
       "    var fig = this;\n",
       "\n",
       "    var nav_element = $('<div/>');\n",
       "    nav_element.attr('style', 'width: 100%');\n",
       "    this.root.append(nav_element);\n",
       "\n",
       "    // Define a callback function for later on.\n",
       "    function toolbar_event(event) {\n",
       "        return fig.toolbar_button_onclick(event['data']);\n",
       "    }\n",
       "    function toolbar_mouse_event(event) {\n",
       "        return fig.toolbar_button_onmouseover(event['data']);\n",
       "    }\n",
       "\n",
       "    for(var toolbar_ind in mpl.toolbar_items) {\n",
       "        var name = mpl.toolbar_items[toolbar_ind][0];\n",
       "        var tooltip = mpl.toolbar_items[toolbar_ind][1];\n",
       "        var image = mpl.toolbar_items[toolbar_ind][2];\n",
       "        var method_name = mpl.toolbar_items[toolbar_ind][3];\n",
       "\n",
       "        if (!name) {\n",
       "            // put a spacer in here.\n",
       "            continue;\n",
       "        }\n",
       "        var button = $('<button/>');\n",
       "        button.addClass('ui-button ui-widget ui-state-default ui-corner-all ' +\n",
       "                        'ui-button-icon-only');\n",
       "        button.attr('role', 'button');\n",
       "        button.attr('aria-disabled', 'false');\n",
       "        button.click(method_name, toolbar_event);\n",
       "        button.mouseover(tooltip, toolbar_mouse_event);\n",
       "\n",
       "        var icon_img = $('<span/>');\n",
       "        icon_img.addClass('ui-button-icon-primary ui-icon');\n",
       "        icon_img.addClass(image);\n",
       "        icon_img.addClass('ui-corner-all');\n",
       "\n",
       "        var tooltip_span = $('<span/>');\n",
       "        tooltip_span.addClass('ui-button-text');\n",
       "        tooltip_span.html(tooltip);\n",
       "\n",
       "        button.append(icon_img);\n",
       "        button.append(tooltip_span);\n",
       "\n",
       "        nav_element.append(button);\n",
       "    }\n",
       "\n",
       "    var fmt_picker_span = $('<span/>');\n",
       "\n",
       "    var fmt_picker = $('<select/>');\n",
       "    fmt_picker.addClass('mpl-toolbar-option ui-widget ui-widget-content');\n",
       "    fmt_picker_span.append(fmt_picker);\n",
       "    nav_element.append(fmt_picker_span);\n",
       "    this.format_dropdown = fmt_picker[0];\n",
       "\n",
       "    for (var ind in mpl.extensions) {\n",
       "        var fmt = mpl.extensions[ind];\n",
       "        var option = $(\n",
       "            '<option/>', {selected: fmt === mpl.default_extension}).html(fmt);\n",
       "        fmt_picker.append(option);\n",
       "    }\n",
       "\n",
       "    // Add hover states to the ui-buttons\n",
       "    $( \".ui-button\" ).hover(\n",
       "        function() { $(this).addClass(\"ui-state-hover\");},\n",
       "        function() { $(this).removeClass(\"ui-state-hover\");}\n",
       "    );\n",
       "\n",
       "    var status_bar = $('<span class=\"mpl-message\"/>');\n",
       "    nav_element.append(status_bar);\n",
       "    this.message = status_bar[0];\n",
       "}\n",
       "\n",
       "mpl.figure.prototype.request_resize = function(x_pixels, y_pixels) {\n",
       "    // Request matplotlib to resize the figure. Matplotlib will then trigger a resize in the client,\n",
       "    // which will in turn request a refresh of the image.\n",
       "    this.send_message('resize', {'width': x_pixels, 'height': y_pixels});\n",
       "}\n",
       "\n",
       "mpl.figure.prototype.send_message = function(type, properties) {\n",
       "    properties['type'] = type;\n",
       "    properties['figure_id'] = this.id;\n",
       "    this.ws.send(JSON.stringify(properties));\n",
       "}\n",
       "\n",
       "mpl.figure.prototype.send_draw_message = function() {\n",
       "    if (!this.waiting) {\n",
       "        this.waiting = true;\n",
       "        this.ws.send(JSON.stringify({type: \"draw\", figure_id: this.id}));\n",
       "    }\n",
       "}\n",
       "\n",
       "\n",
       "mpl.figure.prototype.handle_save = function(fig, msg) {\n",
       "    var format_dropdown = fig.format_dropdown;\n",
       "    var format = format_dropdown.options[format_dropdown.selectedIndex].value;\n",
       "    fig.ondownload(fig, format);\n",
       "}\n",
       "\n",
       "\n",
       "mpl.figure.prototype.handle_resize = function(fig, msg) {\n",
       "    var size = msg['size'];\n",
       "    if (size[0] != fig.canvas.width || size[1] != fig.canvas.height) {\n",
       "        fig._resize_canvas(size[0], size[1]);\n",
       "        fig.send_message(\"refresh\", {});\n",
       "    };\n",
       "}\n",
       "\n",
       "mpl.figure.prototype.handle_rubberband = function(fig, msg) {\n",
       "    var x0 = msg['x0'] / mpl.ratio;\n",
       "    var y0 = (fig.canvas.height - msg['y0']) / mpl.ratio;\n",
       "    var x1 = msg['x1'] / mpl.ratio;\n",
       "    var y1 = (fig.canvas.height - msg['y1']) / mpl.ratio;\n",
       "    x0 = Math.floor(x0) + 0.5;\n",
       "    y0 = Math.floor(y0) + 0.5;\n",
       "    x1 = Math.floor(x1) + 0.5;\n",
       "    y1 = Math.floor(y1) + 0.5;\n",
       "    var min_x = Math.min(x0, x1);\n",
       "    var min_y = Math.min(y0, y1);\n",
       "    var width = Math.abs(x1 - x0);\n",
       "    var height = Math.abs(y1 - y0);\n",
       "\n",
       "    fig.rubberband_context.clearRect(\n",
       "        0, 0, fig.canvas.width / mpl.ratio, fig.canvas.height / mpl.ratio);\n",
       "\n",
       "    fig.rubberband_context.strokeRect(min_x, min_y, width, height);\n",
       "}\n",
       "\n",
       "mpl.figure.prototype.handle_figure_label = function(fig, msg) {\n",
       "    // Updates the figure title.\n",
       "    fig.header.textContent = msg['label'];\n",
       "}\n",
       "\n",
       "mpl.figure.prototype.handle_cursor = function(fig, msg) {\n",
       "    var cursor = msg['cursor'];\n",
       "    switch(cursor)\n",
       "    {\n",
       "    case 0:\n",
       "        cursor = 'pointer';\n",
       "        break;\n",
       "    case 1:\n",
       "        cursor = 'default';\n",
       "        break;\n",
       "    case 2:\n",
       "        cursor = 'crosshair';\n",
       "        break;\n",
       "    case 3:\n",
       "        cursor = 'move';\n",
       "        break;\n",
       "    }\n",
       "    fig.rubberband_canvas.style.cursor = cursor;\n",
       "}\n",
       "\n",
       "mpl.figure.prototype.handle_message = function(fig, msg) {\n",
       "    fig.message.textContent = msg['message'];\n",
       "}\n",
       "\n",
       "mpl.figure.prototype.handle_draw = function(fig, msg) {\n",
       "    // Request the server to send over a new figure.\n",
       "    fig.send_draw_message();\n",
       "}\n",
       "\n",
       "mpl.figure.prototype.handle_image_mode = function(fig, msg) {\n",
       "    fig.image_mode = msg['mode'];\n",
       "}\n",
       "\n",
       "mpl.figure.prototype.updated_canvas_event = function() {\n",
       "    // Called whenever the canvas gets updated.\n",
       "    this.send_message(\"ack\", {});\n",
       "}\n",
       "\n",
       "// A function to construct a web socket function for onmessage handling.\n",
       "// Called in the figure constructor.\n",
       "mpl.figure.prototype._make_on_message_function = function(fig) {\n",
       "    return function socket_on_message(evt) {\n",
       "        if (evt.data instanceof Blob) {\n",
       "            /* FIXME: We get \"Resource interpreted as Image but\n",
       "             * transferred with MIME type text/plain:\" errors on\n",
       "             * Chrome.  But how to set the MIME type?  It doesn't seem\n",
       "             * to be part of the websocket stream */\n",
       "            evt.data.type = \"image/png\";\n",
       "\n",
       "            /* Free the memory for the previous frames */\n",
       "            if (fig.imageObj.src) {\n",
       "                (window.URL || window.webkitURL).revokeObjectURL(\n",
       "                    fig.imageObj.src);\n",
       "            }\n",
       "\n",
       "            fig.imageObj.src = (window.URL || window.webkitURL).createObjectURL(\n",
       "                evt.data);\n",
       "            fig.updated_canvas_event();\n",
       "            fig.waiting = false;\n",
       "            return;\n",
       "        }\n",
       "        else if (typeof evt.data === 'string' && evt.data.slice(0, 21) == \"data:image/png;base64\") {\n",
       "            fig.imageObj.src = evt.data;\n",
       "            fig.updated_canvas_event();\n",
       "            fig.waiting = false;\n",
       "            return;\n",
       "        }\n",
       "\n",
       "        var msg = JSON.parse(evt.data);\n",
       "        var msg_type = msg['type'];\n",
       "\n",
       "        // Call the  \"handle_{type}\" callback, which takes\n",
       "        // the figure and JSON message as its only arguments.\n",
       "        try {\n",
       "            var callback = fig[\"handle_\" + msg_type];\n",
       "        } catch (e) {\n",
       "            console.log(\"No handler for the '\" + msg_type + \"' message type: \", msg);\n",
       "            return;\n",
       "        }\n",
       "\n",
       "        if (callback) {\n",
       "            try {\n",
       "                // console.log(\"Handling '\" + msg_type + \"' message: \", msg);\n",
       "                callback(fig, msg);\n",
       "            } catch (e) {\n",
       "                console.log(\"Exception inside the 'handler_\" + msg_type + \"' callback:\", e, e.stack, msg);\n",
       "            }\n",
       "        }\n",
       "    };\n",
       "}\n",
       "\n",
       "// from http://stackoverflow.com/questions/1114465/getting-mouse-location-in-canvas\n",
       "mpl.findpos = function(e) {\n",
       "    //this section is from http://www.quirksmode.org/js/events_properties.html\n",
       "    var targ;\n",
       "    if (!e)\n",
       "        e = window.event;\n",
       "    if (e.target)\n",
       "        targ = e.target;\n",
       "    else if (e.srcElement)\n",
       "        targ = e.srcElement;\n",
       "    if (targ.nodeType == 3) // defeat Safari bug\n",
       "        targ = targ.parentNode;\n",
       "\n",
       "    // jQuery normalizes the pageX and pageY\n",
       "    // pageX,Y are the mouse positions relative to the document\n",
       "    // offset() returns the position of the element relative to the document\n",
       "    var x = e.pageX - $(targ).offset().left;\n",
       "    var y = e.pageY - $(targ).offset().top;\n",
       "\n",
       "    return {\"x\": x, \"y\": y};\n",
       "};\n",
       "\n",
       "/*\n",
       " * return a copy of an object with only non-object keys\n",
       " * we need this to avoid circular references\n",
       " * http://stackoverflow.com/a/24161582/3208463\n",
       " */\n",
       "function simpleKeys (original) {\n",
       "  return Object.keys(original).reduce(function (obj, key) {\n",
       "    if (typeof original[key] !== 'object')\n",
       "        obj[key] = original[key]\n",
       "    return obj;\n",
       "  }, {});\n",
       "}\n",
       "\n",
       "mpl.figure.prototype.mouse_event = function(event, name) {\n",
       "    var canvas_pos = mpl.findpos(event)\n",
       "\n",
       "    if (name === 'button_press')\n",
       "    {\n",
       "        this.canvas.focus();\n",
       "        this.canvas_div.focus();\n",
       "    }\n",
       "\n",
       "    var x = canvas_pos.x * mpl.ratio;\n",
       "    var y = canvas_pos.y * mpl.ratio;\n",
       "\n",
       "    this.send_message(name, {x: x, y: y, button: event.button,\n",
       "                             step: event.step,\n",
       "                             guiEvent: simpleKeys(event)});\n",
       "\n",
       "    /* This prevents the web browser from automatically changing to\n",
       "     * the text insertion cursor when the button is pressed.  We want\n",
       "     * to control all of the cursor setting manually through the\n",
       "     * 'cursor' event from matplotlib */\n",
       "    event.preventDefault();\n",
       "    return false;\n",
       "}\n",
       "\n",
       "mpl.figure.prototype._key_event_extra = function(event, name) {\n",
       "    // Handle any extra behaviour associated with a key event\n",
       "}\n",
       "\n",
       "mpl.figure.prototype.key_event = function(event, name) {\n",
       "\n",
       "    // Prevent repeat events\n",
       "    if (name == 'key_press')\n",
       "    {\n",
       "        if (event.which === this._key)\n",
       "            return;\n",
       "        else\n",
       "            this._key = event.which;\n",
       "    }\n",
       "    if (name == 'key_release')\n",
       "        this._key = null;\n",
       "\n",
       "    var value = '';\n",
       "    if (event.ctrlKey && event.which != 17)\n",
       "        value += \"ctrl+\";\n",
       "    if (event.altKey && event.which != 18)\n",
       "        value += \"alt+\";\n",
       "    if (event.shiftKey && event.which != 16)\n",
       "        value += \"shift+\";\n",
       "\n",
       "    value += 'k';\n",
       "    value += event.which.toString();\n",
       "\n",
       "    this._key_event_extra(event, name);\n",
       "\n",
       "    this.send_message(name, {key: value,\n",
       "                             guiEvent: simpleKeys(event)});\n",
       "    return false;\n",
       "}\n",
       "\n",
       "mpl.figure.prototype.toolbar_button_onclick = function(name) {\n",
       "    if (name == 'download') {\n",
       "        this.handle_save(this, null);\n",
       "    } else {\n",
       "        this.send_message(\"toolbar_button\", {name: name});\n",
       "    }\n",
       "};\n",
       "\n",
       "mpl.figure.prototype.toolbar_button_onmouseover = function(tooltip) {\n",
       "    this.message.textContent = tooltip;\n",
       "};\n",
       "mpl.toolbar_items = [[\"Home\", \"Reset original view\", \"fa fa-home icon-home\", \"home\"], [\"Back\", \"Back to previous view\", \"fa fa-arrow-left icon-arrow-left\", \"back\"], [\"Forward\", \"Forward to next view\", \"fa fa-arrow-right icon-arrow-right\", \"forward\"], [\"\", \"\", \"\", \"\"], [\"Pan\", \"Pan axes with left mouse, zoom with right\", \"fa fa-arrows icon-move\", \"pan\"], [\"Zoom\", \"Zoom to rectangle\", \"fa fa-square-o icon-check-empty\", \"zoom\"], [\"\", \"\", \"\", \"\"], [\"Download\", \"Download plot\", \"fa fa-floppy-o icon-save\", \"download\"]];\n",
       "\n",
       "mpl.extensions = [\"eps\", \"pdf\", \"png\", \"ps\", \"raw\", \"svg\"];\n",
       "\n",
       "mpl.default_extension = \"png\";var comm_websocket_adapter = function(comm) {\n",
       "    // Create a \"websocket\"-like object which calls the given IPython comm\n",
       "    // object with the appropriate methods. Currently this is a non binary\n",
       "    // socket, so there is still some room for performance tuning.\n",
       "    var ws = {};\n",
       "\n",
       "    ws.close = function() {\n",
       "        comm.close()\n",
       "    };\n",
       "    ws.send = function(m) {\n",
       "        //console.log('sending', m);\n",
       "        comm.send(m);\n",
       "    };\n",
       "    // Register the callback with on_msg.\n",
       "    comm.on_msg(function(msg) {\n",
       "        //console.log('receiving', msg['content']['data'], msg);\n",
       "        // Pass the mpl event to the overridden (by mpl) onmessage function.\n",
       "        ws.onmessage(msg['content']['data'])\n",
       "    });\n",
       "    return ws;\n",
       "}\n",
       "\n",
       "mpl.mpl_figure_comm = function(comm, msg) {\n",
       "    // This is the function which gets called when the mpl process\n",
       "    // starts-up an IPython Comm through the \"matplotlib\" channel.\n",
       "\n",
       "    var id = msg.content.data.id;\n",
       "    // Get hold of the div created by the display call when the Comm\n",
       "    // socket was opened in Python.\n",
       "    var element = $(\"#\" + id);\n",
       "    var ws_proxy = comm_websocket_adapter(comm)\n",
       "\n",
       "    function ondownload(figure, format) {\n",
       "        window.open(figure.imageObj.src);\n",
       "    }\n",
       "\n",
       "    var fig = new mpl.figure(id, ws_proxy,\n",
       "                           ondownload,\n",
       "                           element.get(0));\n",
       "\n",
       "    // Call onopen now - mpl needs it, as it is assuming we've passed it a real\n",
       "    // web socket which is closed, not our websocket->open comm proxy.\n",
       "    ws_proxy.onopen();\n",
       "\n",
       "    fig.parent_element = element.get(0);\n",
       "    fig.cell_info = mpl.find_output_cell(\"<div id='\" + id + \"'></div>\");\n",
       "    if (!fig.cell_info) {\n",
       "        console.error(\"Failed to find cell for figure\", id, fig);\n",
       "        return;\n",
       "    }\n",
       "\n",
       "    var output_index = fig.cell_info[2]\n",
       "    var cell = fig.cell_info[0];\n",
       "\n",
       "};\n",
       "\n",
       "mpl.figure.prototype.handle_close = function(fig, msg) {\n",
       "    var width = fig.canvas.width/mpl.ratio\n",
       "    fig.root.unbind('remove')\n",
       "\n",
       "    // Update the output cell to use the data from the current canvas.\n",
       "    fig.push_to_output();\n",
       "    var dataURL = fig.canvas.toDataURL();\n",
       "    // Re-enable the keyboard manager in IPython - without this line, in FF,\n",
       "    // the notebook keyboard shortcuts fail.\n",
       "    IPython.keyboard_manager.enable()\n",
       "    $(fig.parent_element).html('<img src=\"' + dataURL + '\" width=\"' + width + '\">');\n",
       "    fig.close_ws(fig, msg);\n",
       "}\n",
       "\n",
       "mpl.figure.prototype.close_ws = function(fig, msg){\n",
       "    fig.send_message('closing', msg);\n",
       "    // fig.ws.close()\n",
       "}\n",
       "\n",
       "mpl.figure.prototype.push_to_output = function(remove_interactive) {\n",
       "    // Turn the data on the canvas into data in the output cell.\n",
       "    var width = this.canvas.width/mpl.ratio\n",
       "    var dataURL = this.canvas.toDataURL();\n",
       "    this.cell_info[1]['text/html'] = '<img src=\"' + dataURL + '\" width=\"' + width + '\">';\n",
       "}\n",
       "\n",
       "mpl.figure.prototype.updated_canvas_event = function() {\n",
       "    // Tell IPython that the notebook contents must change.\n",
       "    IPython.notebook.set_dirty(true);\n",
       "    this.send_message(\"ack\", {});\n",
       "    var fig = this;\n",
       "    // Wait a second, then push the new image to the DOM so\n",
       "    // that it is saved nicely (might be nice to debounce this).\n",
       "    setTimeout(function () { fig.push_to_output() }, 1000);\n",
       "}\n",
       "\n",
       "mpl.figure.prototype._init_toolbar = function() {\n",
       "    var fig = this;\n",
       "\n",
       "    var nav_element = $('<div/>');\n",
       "    nav_element.attr('style', 'width: 100%');\n",
       "    this.root.append(nav_element);\n",
       "\n",
       "    // Define a callback function for later on.\n",
       "    function toolbar_event(event) {\n",
       "        return fig.toolbar_button_onclick(event['data']);\n",
       "    }\n",
       "    function toolbar_mouse_event(event) {\n",
       "        return fig.toolbar_button_onmouseover(event['data']);\n",
       "    }\n",
       "\n",
       "    for(var toolbar_ind in mpl.toolbar_items){\n",
       "        var name = mpl.toolbar_items[toolbar_ind][0];\n",
       "        var tooltip = mpl.toolbar_items[toolbar_ind][1];\n",
       "        var image = mpl.toolbar_items[toolbar_ind][2];\n",
       "        var method_name = mpl.toolbar_items[toolbar_ind][3];\n",
       "\n",
       "        if (!name) { continue; };\n",
       "\n",
       "        var button = $('<button class=\"btn btn-default\" href=\"#\" title=\"' + name + '\"><i class=\"fa ' + image + ' fa-lg\"></i></button>');\n",
       "        button.click(method_name, toolbar_event);\n",
       "        button.mouseover(tooltip, toolbar_mouse_event);\n",
       "        nav_element.append(button);\n",
       "    }\n",
       "\n",
       "    // Add the status bar.\n",
       "    var status_bar = $('<span class=\"mpl-message\" style=\"text-align:right; float: right;\"/>');\n",
       "    nav_element.append(status_bar);\n",
       "    this.message = status_bar[0];\n",
       "\n",
       "    // Add the close button to the window.\n",
       "    var buttongrp = $('<div class=\"btn-group inline pull-right\"></div>');\n",
       "    var button = $('<button class=\"btn btn-mini btn-primary\" href=\"#\" title=\"Stop Interaction\"><i class=\"fa fa-power-off icon-remove icon-large\"></i></button>');\n",
       "    button.click(function (evt) { fig.handle_close(fig, {}); } );\n",
       "    button.mouseover('Stop Interaction', toolbar_mouse_event);\n",
       "    buttongrp.append(button);\n",
       "    var titlebar = this.root.find($('.ui-dialog-titlebar'));\n",
       "    titlebar.prepend(buttongrp);\n",
       "}\n",
       "\n",
       "mpl.figure.prototype._root_extra_style = function(el){\n",
       "    var fig = this\n",
       "    el.on(\"remove\", function(){\n",
       "\tfig.close_ws(fig, {});\n",
       "    });\n",
       "}\n",
       "\n",
       "mpl.figure.prototype._canvas_extra_style = function(el){\n",
       "    // this is important to make the div 'focusable\n",
       "    el.attr('tabindex', 0)\n",
       "    // reach out to IPython and tell the keyboard manager to turn it's self\n",
       "    // off when our div gets focus\n",
       "\n",
       "    // location in version 3\n",
       "    if (IPython.notebook.keyboard_manager) {\n",
       "        IPython.notebook.keyboard_manager.register_events(el);\n",
       "    }\n",
       "    else {\n",
       "        // location in version 2\n",
       "        IPython.keyboard_manager.register_events(el);\n",
       "    }\n",
       "\n",
       "}\n",
       "\n",
       "mpl.figure.prototype._key_event_extra = function(event, name) {\n",
       "    var manager = IPython.notebook.keyboard_manager;\n",
       "    if (!manager)\n",
       "        manager = IPython.keyboard_manager;\n",
       "\n",
       "    // Check for shift+enter\n",
       "    if (event.shiftKey && event.which == 13) {\n",
       "        this.canvas_div.blur();\n",
       "        event.shiftKey = false;\n",
       "        // Send a \"J\" for go to next cell\n",
       "        event.which = 74;\n",
       "        event.keyCode = 74;\n",
       "        manager.command_mode();\n",
       "        manager.handle_keydown(event);\n",
       "    }\n",
       "}\n",
       "\n",
       "mpl.figure.prototype.handle_save = function(fig, msg) {\n",
       "    fig.ondownload(fig, null);\n",
       "}\n",
       "\n",
       "\n",
       "mpl.find_output_cell = function(html_output) {\n",
       "    // Return the cell and output element which can be found *uniquely* in the notebook.\n",
       "    // Note - this is a bit hacky, but it is done because the \"notebook_saving.Notebook\"\n",
       "    // IPython event is triggered only after the cells have been serialised, which for\n",
       "    // our purposes (turning an active figure into a static one), is too late.\n",
       "    var cells = IPython.notebook.get_cells();\n",
       "    var ncells = cells.length;\n",
       "    for (var i=0; i<ncells; i++) {\n",
       "        var cell = cells[i];\n",
       "        if (cell.cell_type === 'code'){\n",
       "            for (var j=0; j<cell.output_area.outputs.length; j++) {\n",
       "                var data = cell.output_area.outputs[j];\n",
       "                if (data.data) {\n",
       "                    // IPython >= 3 moved mimebundle to data attribute of output\n",
       "                    data = data.data;\n",
       "                }\n",
       "                if (data['text/html'] == html_output) {\n",
       "                    return [cell, data, j];\n",
       "                }\n",
       "            }\n",
       "        }\n",
       "    }\n",
       "}\n",
       "\n",
       "// Register the function which deals with the matplotlib target/channel.\n",
       "// The kernel may be null if the page has been refreshed.\n",
       "if (IPython.notebook.kernel != null) {\n",
       "    IPython.notebook.kernel.comm_manager.register_target('matplotlib', mpl.mpl_figure_comm);\n",
       "}\n"
      ],
      "text/plain": [
       "<IPython.core.display.Javascript object>"
      ]
     },
     "metadata": {},
     "output_type": "display_data"
    },
    {
     "data": {
      "text/html": [
       "<img src=\"data:image/png;base64,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\" width=\"640\">"
      ],
      "text/plain": [
       "<IPython.core.display.HTML object>"
      ]
     },
     "metadata": {},
     "output_type": "display_data"
    },
    {
     "data": {
      "text/plain": [
       "Text(0.5, 1.0, 'Important dates in the 2008-2009 financial crisis')"
      ]
     },
     "execution_count": 20,
     "metadata": {},
     "output_type": "execute_result"
    }
   ],
   "source": [
    "from datetime import datetime\n",
    "import pandas as pd\n",
    "import matplotlib.pyplot as plt\n",
    "%matplotlib notebook\n",
    "fig = plt.figure()\n",
    "ax = fig.add_subplot(1,1,1)\n",
    "data = pd.read_csv('examples/spx.csv',index_col=0, parse_dates=True)\n",
    "spx = data['SPX']\n",
    "#注意这里是series.plot()\n",
    "spx.plot(ax=ax,style='k-')\n",
    "crisis_data = [\n",
    "    (datetime(2007,10,11),'Peak of bull market'),\n",
    "    (datetime(2008,3,12),'Bear Stearns Fails'),\n",
    "    (datetime(2008,9,15),'Lehman Bankruptcy')\n",
    "]\n",
    "#由参数xy表示的标注位置和xytext的文本位置\n",
    "#xy=(横坐标，纵坐标)  箭头尖端\n",
    "#    xytext=(横坐标，纵坐标) 文字的坐标，指的是最左边的坐标\n",
    "#箭头方向是自然而然从xytext到xy\n",
    "for date, label in crisis_data:   #annotate注释\n",
    "    ax.annotate(label,xy=(date,spx.asof(date) + 75),\n",
    "               xytext=(date, spx.asof(date) + 225),\n",
    "                arrowprops=dict(facecolor='black', headwidth=4, width=2,\n",
    "                                headlength=4),\n",
    "                horizontalalignment='left', verticalalignment='top')\n",
    "\n",
    "# #Zoom in on 2007-2010\n",
    "ax.set_xlim(['1/1/2007','1/1/2011'])\n",
    "ax.set_ylim([600,1800])\n",
    "ax.set_title('Important dates in the 2008-2009 financial crisis')"
   ]
  },
  {
   "cell_type": "code",
   "execution_count": 6,
   "metadata": {},
   "outputs": [
    {
     "data": {
      "text/plain": [
       "datetime.datetime(2007, 10, 11, 0, 0)"
      ]
     },
     "execution_count": 6,
     "metadata": {},
     "output_type": "execute_result"
    }
   ],
   "source": [
    "datetime(2007,10,11)"
   ]
  },
  {
   "cell_type": "code",
   "execution_count": 7,
   "metadata": {},
   "outputs": [
    {
     "data": {
      "text/plain": [
       "1554.41"
      ]
     },
     "execution_count": 7,
     "metadata": {},
     "output_type": "execute_result"
    }
   ],
   "source": [
    "spx['2007-10-11']"
   ]
  },
  {
   "cell_type": "code",
   "execution_count": 21,
   "metadata": {},
   "outputs": [],
   "source": [
    "#fig.clear()"
   ]
  },
  {
   "cell_type": "code",
   "execution_count": 25,
   "metadata": {
    "scrolled": true
   },
   "outputs": [
    {
     "data": {
      "application/javascript": [
       "/* Put everything inside the global mpl namespace */\n",
       "window.mpl = {};\n",
       "\n",
       "\n",
       "mpl.get_websocket_type = function() {\n",
       "    if (typeof(WebSocket) !== 'undefined') {\n",
       "        return WebSocket;\n",
       "    } else if (typeof(MozWebSocket) !== 'undefined') {\n",
       "        return MozWebSocket;\n",
       "    } else {\n",
       "        alert('Your browser does not have WebSocket support. ' +\n",
       "              'Please try Chrome, Safari or Firefox ≥ 6. ' +\n",
       "              'Firefox 4 and 5 are also supported but you ' +\n",
       "              'have to enable WebSockets in about:config.');\n",
       "    };\n",
       "}\n",
       "\n",
       "mpl.figure = function(figure_id, websocket, ondownload, parent_element) {\n",
       "    this.id = figure_id;\n",
       "\n",
       "    this.ws = websocket;\n",
       "\n",
       "    this.supports_binary = (this.ws.binaryType != undefined);\n",
       "\n",
       "    if (!this.supports_binary) {\n",
       "        var warnings = document.getElementById(\"mpl-warnings\");\n",
       "        if (warnings) {\n",
       "            warnings.style.display = 'block';\n",
       "            warnings.textContent = (\n",
       "                \"This browser does not support binary websocket messages. \" +\n",
       "                    \"Performance may be slow.\");\n",
       "        }\n",
       "    }\n",
       "\n",
       "    this.imageObj = new Image();\n",
       "\n",
       "    this.context = undefined;\n",
       "    this.message = undefined;\n",
       "    this.canvas = undefined;\n",
       "    this.rubberband_canvas = undefined;\n",
       "    this.rubberband_context = undefined;\n",
       "    this.format_dropdown = undefined;\n",
       "\n",
       "    this.image_mode = 'full';\n",
       "\n",
       "    this.root = $('<div/>');\n",
       "    this._root_extra_style(this.root)\n",
       "    this.root.attr('style', 'display: inline-block');\n",
       "\n",
       "    $(parent_element).append(this.root);\n",
       "\n",
       "    this._init_header(this);\n",
       "    this._init_canvas(this);\n",
       "    this._init_toolbar(this);\n",
       "\n",
       "    var fig = this;\n",
       "\n",
       "    this.waiting = false;\n",
       "\n",
       "    this.ws.onopen =  function () {\n",
       "            fig.send_message(\"supports_binary\", {value: fig.supports_binary});\n",
       "            fig.send_message(\"send_image_mode\", {});\n",
       "            if (mpl.ratio != 1) {\n",
       "                fig.send_message(\"set_dpi_ratio\", {'dpi_ratio': mpl.ratio});\n",
       "            }\n",
       "            fig.send_message(\"refresh\", {});\n",
       "        }\n",
       "\n",
       "    this.imageObj.onload = function() {\n",
       "            if (fig.image_mode == 'full') {\n",
       "                // Full images could contain transparency (where diff images\n",
       "                // almost always do), so we need to clear the canvas so that\n",
       "                // there is no ghosting.\n",
       "                fig.context.clearRect(0, 0, fig.canvas.width, fig.canvas.height);\n",
       "            }\n",
       "            fig.context.drawImage(fig.imageObj, 0, 0);\n",
       "        };\n",
       "\n",
       "    this.imageObj.onunload = function() {\n",
       "        fig.ws.close();\n",
       "    }\n",
       "\n",
       "    this.ws.onmessage = this._make_on_message_function(this);\n",
       "\n",
       "    this.ondownload = ondownload;\n",
       "}\n",
       "\n",
       "mpl.figure.prototype._init_header = function() {\n",
       "    var titlebar = $(\n",
       "        '<div class=\"ui-dialog-titlebar ui-widget-header ui-corner-all ' +\n",
       "        'ui-helper-clearfix\"/>');\n",
       "    var titletext = $(\n",
       "        '<div class=\"ui-dialog-title\" style=\"width: 100%; ' +\n",
       "        'text-align: center; padding: 3px;\"/>');\n",
       "    titlebar.append(titletext)\n",
       "    this.root.append(titlebar);\n",
       "    this.header = titletext[0];\n",
       "}\n",
       "\n",
       "\n",
       "\n",
       "mpl.figure.prototype._canvas_extra_style = function(canvas_div) {\n",
       "\n",
       "}\n",
       "\n",
       "\n",
       "mpl.figure.prototype._root_extra_style = function(canvas_div) {\n",
       "\n",
       "}\n",
       "\n",
       "mpl.figure.prototype._init_canvas = function() {\n",
       "    var fig = this;\n",
       "\n",
       "    var canvas_div = $('<div/>');\n",
       "\n",
       "    canvas_div.attr('style', 'position: relative; clear: both; outline: 0');\n",
       "\n",
       "    function canvas_keyboard_event(event) {\n",
       "        return fig.key_event(event, event['data']);\n",
       "    }\n",
       "\n",
       "    canvas_div.keydown('key_press', canvas_keyboard_event);\n",
       "    canvas_div.keyup('key_release', canvas_keyboard_event);\n",
       "    this.canvas_div = canvas_div\n",
       "    this._canvas_extra_style(canvas_div)\n",
       "    this.root.append(canvas_div);\n",
       "\n",
       "    var canvas = $('<canvas/>');\n",
       "    canvas.addClass('mpl-canvas');\n",
       "    canvas.attr('style', \"left: 0; top: 0; z-index: 0; outline: 0\")\n",
       "\n",
       "    this.canvas = canvas[0];\n",
       "    this.context = canvas[0].getContext(\"2d\");\n",
       "\n",
       "    var backingStore = this.context.backingStorePixelRatio ||\n",
       "\tthis.context.webkitBackingStorePixelRatio ||\n",
       "\tthis.context.mozBackingStorePixelRatio ||\n",
       "\tthis.context.msBackingStorePixelRatio ||\n",
       "\tthis.context.oBackingStorePixelRatio ||\n",
       "\tthis.context.backingStorePixelRatio || 1;\n",
       "\n",
       "    mpl.ratio = (window.devicePixelRatio || 1) / backingStore;\n",
       "\n",
       "    var rubberband = $('<canvas/>');\n",
       "    rubberband.attr('style', \"position: absolute; left: 0; top: 0; z-index: 1;\")\n",
       "\n",
       "    var pass_mouse_events = true;\n",
       "\n",
       "    canvas_div.resizable({\n",
       "        start: function(event, ui) {\n",
       "            pass_mouse_events = false;\n",
       "        },\n",
       "        resize: function(event, ui) {\n",
       "            fig.request_resize(ui.size.width, ui.size.height);\n",
       "        },\n",
       "        stop: function(event, ui) {\n",
       "            pass_mouse_events = true;\n",
       "            fig.request_resize(ui.size.width, ui.size.height);\n",
       "        },\n",
       "    });\n",
       "\n",
       "    function mouse_event_fn(event) {\n",
       "        if (pass_mouse_events)\n",
       "            return fig.mouse_event(event, event['data']);\n",
       "    }\n",
       "\n",
       "    rubberband.mousedown('button_press', mouse_event_fn);\n",
       "    rubberband.mouseup('button_release', mouse_event_fn);\n",
       "    // Throttle sequential mouse events to 1 every 20ms.\n",
       "    rubberband.mousemove('motion_notify', mouse_event_fn);\n",
       "\n",
       "    rubberband.mouseenter('figure_enter', mouse_event_fn);\n",
       "    rubberband.mouseleave('figure_leave', mouse_event_fn);\n",
       "\n",
       "    canvas_div.on(\"wheel\", function (event) {\n",
       "        event = event.originalEvent;\n",
       "        event['data'] = 'scroll'\n",
       "        if (event.deltaY < 0) {\n",
       "            event.step = 1;\n",
       "        } else {\n",
       "            event.step = -1;\n",
       "        }\n",
       "        mouse_event_fn(event);\n",
       "    });\n",
       "\n",
       "    canvas_div.append(canvas);\n",
       "    canvas_div.append(rubberband);\n",
       "\n",
       "    this.rubberband = rubberband;\n",
       "    this.rubberband_canvas = rubberband[0];\n",
       "    this.rubberband_context = rubberband[0].getContext(\"2d\");\n",
       "    this.rubberband_context.strokeStyle = \"#000000\";\n",
       "\n",
       "    this._resize_canvas = function(width, height) {\n",
       "        // Keep the size of the canvas, canvas container, and rubber band\n",
       "        // canvas in synch.\n",
       "        canvas_div.css('width', width)\n",
       "        canvas_div.css('height', height)\n",
       "\n",
       "        canvas.attr('width', width * mpl.ratio);\n",
       "        canvas.attr('height', height * mpl.ratio);\n",
       "        canvas.attr('style', 'width: ' + width + 'px; height: ' + height + 'px;');\n",
       "\n",
       "        rubberband.attr('width', width);\n",
       "        rubberband.attr('height', height);\n",
       "    }\n",
       "\n",
       "    // Set the figure to an initial 600x600px, this will subsequently be updated\n",
       "    // upon first draw.\n",
       "    this._resize_canvas(600, 600);\n",
       "\n",
       "    // Disable right mouse context menu.\n",
       "    $(this.rubberband_canvas).bind(\"contextmenu\",function(e){\n",
       "        return false;\n",
       "    });\n",
       "\n",
       "    function set_focus () {\n",
       "        canvas.focus();\n",
       "        canvas_div.focus();\n",
       "    }\n",
       "\n",
       "    window.setTimeout(set_focus, 100);\n",
       "}\n",
       "\n",
       "mpl.figure.prototype._init_toolbar = function() {\n",
       "    var fig = this;\n",
       "\n",
       "    var nav_element = $('<div/>');\n",
       "    nav_element.attr('style', 'width: 100%');\n",
       "    this.root.append(nav_element);\n",
       "\n",
       "    // Define a callback function for later on.\n",
       "    function toolbar_event(event) {\n",
       "        return fig.toolbar_button_onclick(event['data']);\n",
       "    }\n",
       "    function toolbar_mouse_event(event) {\n",
       "        return fig.toolbar_button_onmouseover(event['data']);\n",
       "    }\n",
       "\n",
       "    for(var toolbar_ind in mpl.toolbar_items) {\n",
       "        var name = mpl.toolbar_items[toolbar_ind][0];\n",
       "        var tooltip = mpl.toolbar_items[toolbar_ind][1];\n",
       "        var image = mpl.toolbar_items[toolbar_ind][2];\n",
       "        var method_name = mpl.toolbar_items[toolbar_ind][3];\n",
       "\n",
       "        if (!name) {\n",
       "            // put a spacer in here.\n",
       "            continue;\n",
       "        }\n",
       "        var button = $('<button/>');\n",
       "        button.addClass('ui-button ui-widget ui-state-default ui-corner-all ' +\n",
       "                        'ui-button-icon-only');\n",
       "        button.attr('role', 'button');\n",
       "        button.attr('aria-disabled', 'false');\n",
       "        button.click(method_name, toolbar_event);\n",
       "        button.mouseover(tooltip, toolbar_mouse_event);\n",
       "\n",
       "        var icon_img = $('<span/>');\n",
       "        icon_img.addClass('ui-button-icon-primary ui-icon');\n",
       "        icon_img.addClass(image);\n",
       "        icon_img.addClass('ui-corner-all');\n",
       "\n",
       "        var tooltip_span = $('<span/>');\n",
       "        tooltip_span.addClass('ui-button-text');\n",
       "        tooltip_span.html(tooltip);\n",
       "\n",
       "        button.append(icon_img);\n",
       "        button.append(tooltip_span);\n",
       "\n",
       "        nav_element.append(button);\n",
       "    }\n",
       "\n",
       "    var fmt_picker_span = $('<span/>');\n",
       "\n",
       "    var fmt_picker = $('<select/>');\n",
       "    fmt_picker.addClass('mpl-toolbar-option ui-widget ui-widget-content');\n",
       "    fmt_picker_span.append(fmt_picker);\n",
       "    nav_element.append(fmt_picker_span);\n",
       "    this.format_dropdown = fmt_picker[0];\n",
       "\n",
       "    for (var ind in mpl.extensions) {\n",
       "        var fmt = mpl.extensions[ind];\n",
       "        var option = $(\n",
       "            '<option/>', {selected: fmt === mpl.default_extension}).html(fmt);\n",
       "        fmt_picker.append(option);\n",
       "    }\n",
       "\n",
       "    // Add hover states to the ui-buttons\n",
       "    $( \".ui-button\" ).hover(\n",
       "        function() { $(this).addClass(\"ui-state-hover\");},\n",
       "        function() { $(this).removeClass(\"ui-state-hover\");}\n",
       "    );\n",
       "\n",
       "    var status_bar = $('<span class=\"mpl-message\"/>');\n",
       "    nav_element.append(status_bar);\n",
       "    this.message = status_bar[0];\n",
       "}\n",
       "\n",
       "mpl.figure.prototype.request_resize = function(x_pixels, y_pixels) {\n",
       "    // Request matplotlib to resize the figure. Matplotlib will then trigger a resize in the client,\n",
       "    // which will in turn request a refresh of the image.\n",
       "    this.send_message('resize', {'width': x_pixels, 'height': y_pixels});\n",
       "}\n",
       "\n",
       "mpl.figure.prototype.send_message = function(type, properties) {\n",
       "    properties['type'] = type;\n",
       "    properties['figure_id'] = this.id;\n",
       "    this.ws.send(JSON.stringify(properties));\n",
       "}\n",
       "\n",
       "mpl.figure.prototype.send_draw_message = function() {\n",
       "    if (!this.waiting) {\n",
       "        this.waiting = true;\n",
       "        this.ws.send(JSON.stringify({type: \"draw\", figure_id: this.id}));\n",
       "    }\n",
       "}\n",
       "\n",
       "\n",
       "mpl.figure.prototype.handle_save = function(fig, msg) {\n",
       "    var format_dropdown = fig.format_dropdown;\n",
       "    var format = format_dropdown.options[format_dropdown.selectedIndex].value;\n",
       "    fig.ondownload(fig, format);\n",
       "}\n",
       "\n",
       "\n",
       "mpl.figure.prototype.handle_resize = function(fig, msg) {\n",
       "    var size = msg['size'];\n",
       "    if (size[0] != fig.canvas.width || size[1] != fig.canvas.height) {\n",
       "        fig._resize_canvas(size[0], size[1]);\n",
       "        fig.send_message(\"refresh\", {});\n",
       "    };\n",
       "}\n",
       "\n",
       "mpl.figure.prototype.handle_rubberband = function(fig, msg) {\n",
       "    var x0 = msg['x0'] / mpl.ratio;\n",
       "    var y0 = (fig.canvas.height - msg['y0']) / mpl.ratio;\n",
       "    var x1 = msg['x1'] / mpl.ratio;\n",
       "    var y1 = (fig.canvas.height - msg['y1']) / mpl.ratio;\n",
       "    x0 = Math.floor(x0) + 0.5;\n",
       "    y0 = Math.floor(y0) + 0.5;\n",
       "    x1 = Math.floor(x1) + 0.5;\n",
       "    y1 = Math.floor(y1) + 0.5;\n",
       "    var min_x = Math.min(x0, x1);\n",
       "    var min_y = Math.min(y0, y1);\n",
       "    var width = Math.abs(x1 - x0);\n",
       "    var height = Math.abs(y1 - y0);\n",
       "\n",
       "    fig.rubberband_context.clearRect(\n",
       "        0, 0, fig.canvas.width / mpl.ratio, fig.canvas.height / mpl.ratio);\n",
       "\n",
       "    fig.rubberband_context.strokeRect(min_x, min_y, width, height);\n",
       "}\n",
       "\n",
       "mpl.figure.prototype.handle_figure_label = function(fig, msg) {\n",
       "    // Updates the figure title.\n",
       "    fig.header.textContent = msg['label'];\n",
       "}\n",
       "\n",
       "mpl.figure.prototype.handle_cursor = function(fig, msg) {\n",
       "    var cursor = msg['cursor'];\n",
       "    switch(cursor)\n",
       "    {\n",
       "    case 0:\n",
       "        cursor = 'pointer';\n",
       "        break;\n",
       "    case 1:\n",
       "        cursor = 'default';\n",
       "        break;\n",
       "    case 2:\n",
       "        cursor = 'crosshair';\n",
       "        break;\n",
       "    case 3:\n",
       "        cursor = 'move';\n",
       "        break;\n",
       "    }\n",
       "    fig.rubberband_canvas.style.cursor = cursor;\n",
       "}\n",
       "\n",
       "mpl.figure.prototype.handle_message = function(fig, msg) {\n",
       "    fig.message.textContent = msg['message'];\n",
       "}\n",
       "\n",
       "mpl.figure.prototype.handle_draw = function(fig, msg) {\n",
       "    // Request the server to send over a new figure.\n",
       "    fig.send_draw_message();\n",
       "}\n",
       "\n",
       "mpl.figure.prototype.handle_image_mode = function(fig, msg) {\n",
       "    fig.image_mode = msg['mode'];\n",
       "}\n",
       "\n",
       "mpl.figure.prototype.updated_canvas_event = function() {\n",
       "    // Called whenever the canvas gets updated.\n",
       "    this.send_message(\"ack\", {});\n",
       "}\n",
       "\n",
       "// A function to construct a web socket function for onmessage handling.\n",
       "// Called in the figure constructor.\n",
       "mpl.figure.prototype._make_on_message_function = function(fig) {\n",
       "    return function socket_on_message(evt) {\n",
       "        if (evt.data instanceof Blob) {\n",
       "            /* FIXME: We get \"Resource interpreted as Image but\n",
       "             * transferred with MIME type text/plain:\" errors on\n",
       "             * Chrome.  But how to set the MIME type?  It doesn't seem\n",
       "             * to be part of the websocket stream */\n",
       "            evt.data.type = \"image/png\";\n",
       "\n",
       "            /* Free the memory for the previous frames */\n",
       "            if (fig.imageObj.src) {\n",
       "                (window.URL || window.webkitURL).revokeObjectURL(\n",
       "                    fig.imageObj.src);\n",
       "            }\n",
       "\n",
       "            fig.imageObj.src = (window.URL || window.webkitURL).createObjectURL(\n",
       "                evt.data);\n",
       "            fig.updated_canvas_event();\n",
       "            fig.waiting = false;\n",
       "            return;\n",
       "        }\n",
       "        else if (typeof evt.data === 'string' && evt.data.slice(0, 21) == \"data:image/png;base64\") {\n",
       "            fig.imageObj.src = evt.data;\n",
       "            fig.updated_canvas_event();\n",
       "            fig.waiting = false;\n",
       "            return;\n",
       "        }\n",
       "\n",
       "        var msg = JSON.parse(evt.data);\n",
       "        var msg_type = msg['type'];\n",
       "\n",
       "        // Call the  \"handle_{type}\" callback, which takes\n",
       "        // the figure and JSON message as its only arguments.\n",
       "        try {\n",
       "            var callback = fig[\"handle_\" + msg_type];\n",
       "        } catch (e) {\n",
       "            console.log(\"No handler for the '\" + msg_type + \"' message type: \", msg);\n",
       "            return;\n",
       "        }\n",
       "\n",
       "        if (callback) {\n",
       "            try {\n",
       "                // console.log(\"Handling '\" + msg_type + \"' message: \", msg);\n",
       "                callback(fig, msg);\n",
       "            } catch (e) {\n",
       "                console.log(\"Exception inside the 'handler_\" + msg_type + \"' callback:\", e, e.stack, msg);\n",
       "            }\n",
       "        }\n",
       "    };\n",
       "}\n",
       "\n",
       "// from http://stackoverflow.com/questions/1114465/getting-mouse-location-in-canvas\n",
       "mpl.findpos = function(e) {\n",
       "    //this section is from http://www.quirksmode.org/js/events_properties.html\n",
       "    var targ;\n",
       "    if (!e)\n",
       "        e = window.event;\n",
       "    if (e.target)\n",
       "        targ = e.target;\n",
       "    else if (e.srcElement)\n",
       "        targ = e.srcElement;\n",
       "    if (targ.nodeType == 3) // defeat Safari bug\n",
       "        targ = targ.parentNode;\n",
       "\n",
       "    // jQuery normalizes the pageX and pageY\n",
       "    // pageX,Y are the mouse positions relative to the document\n",
       "    // offset() returns the position of the element relative to the document\n",
       "    var x = e.pageX - $(targ).offset().left;\n",
       "    var y = e.pageY - $(targ).offset().top;\n",
       "\n",
       "    return {\"x\": x, \"y\": y};\n",
       "};\n",
       "\n",
       "/*\n",
       " * return a copy of an object with only non-object keys\n",
       " * we need this to avoid circular references\n",
       " * http://stackoverflow.com/a/24161582/3208463\n",
       " */\n",
       "function simpleKeys (original) {\n",
       "  return Object.keys(original).reduce(function (obj, key) {\n",
       "    if (typeof original[key] !== 'object')\n",
       "        obj[key] = original[key]\n",
       "    return obj;\n",
       "  }, {});\n",
       "}\n",
       "\n",
       "mpl.figure.prototype.mouse_event = function(event, name) {\n",
       "    var canvas_pos = mpl.findpos(event)\n",
       "\n",
       "    if (name === 'button_press')\n",
       "    {\n",
       "        this.canvas.focus();\n",
       "        this.canvas_div.focus();\n",
       "    }\n",
       "\n",
       "    var x = canvas_pos.x * mpl.ratio;\n",
       "    var y = canvas_pos.y * mpl.ratio;\n",
       "\n",
       "    this.send_message(name, {x: x, y: y, button: event.button,\n",
       "                             step: event.step,\n",
       "                             guiEvent: simpleKeys(event)});\n",
       "\n",
       "    /* This prevents the web browser from automatically changing to\n",
       "     * the text insertion cursor when the button is pressed.  We want\n",
       "     * to control all of the cursor setting manually through the\n",
       "     * 'cursor' event from matplotlib */\n",
       "    event.preventDefault();\n",
       "    return false;\n",
       "}\n",
       "\n",
       "mpl.figure.prototype._key_event_extra = function(event, name) {\n",
       "    // Handle any extra behaviour associated with a key event\n",
       "}\n",
       "\n",
       "mpl.figure.prototype.key_event = function(event, name) {\n",
       "\n",
       "    // Prevent repeat events\n",
       "    if (name == 'key_press')\n",
       "    {\n",
       "        if (event.which === this._key)\n",
       "            return;\n",
       "        else\n",
       "            this._key = event.which;\n",
       "    }\n",
       "    if (name == 'key_release')\n",
       "        this._key = null;\n",
       "\n",
       "    var value = '';\n",
       "    if (event.ctrlKey && event.which != 17)\n",
       "        value += \"ctrl+\";\n",
       "    if (event.altKey && event.which != 18)\n",
       "        value += \"alt+\";\n",
       "    if (event.shiftKey && event.which != 16)\n",
       "        value += \"shift+\";\n",
       "\n",
       "    value += 'k';\n",
       "    value += event.which.toString();\n",
       "\n",
       "    this._key_event_extra(event, name);\n",
       "\n",
       "    this.send_message(name, {key: value,\n",
       "                             guiEvent: simpleKeys(event)});\n",
       "    return false;\n",
       "}\n",
       "\n",
       "mpl.figure.prototype.toolbar_button_onclick = function(name) {\n",
       "    if (name == 'download') {\n",
       "        this.handle_save(this, null);\n",
       "    } else {\n",
       "        this.send_message(\"toolbar_button\", {name: name});\n",
       "    }\n",
       "};\n",
       "\n",
       "mpl.figure.prototype.toolbar_button_onmouseover = function(tooltip) {\n",
       "    this.message.textContent = tooltip;\n",
       "};\n",
       "mpl.toolbar_items = [[\"Home\", \"Reset original view\", \"fa fa-home icon-home\", \"home\"], [\"Back\", \"Back to previous view\", \"fa fa-arrow-left icon-arrow-left\", \"back\"], [\"Forward\", \"Forward to next view\", \"fa fa-arrow-right icon-arrow-right\", \"forward\"], [\"\", \"\", \"\", \"\"], [\"Pan\", \"Pan axes with left mouse, zoom with right\", \"fa fa-arrows icon-move\", \"pan\"], [\"Zoom\", \"Zoom to rectangle\", \"fa fa-square-o icon-check-empty\", \"zoom\"], [\"\", \"\", \"\", \"\"], [\"Download\", \"Download plot\", \"fa fa-floppy-o icon-save\", \"download\"]];\n",
       "\n",
       "mpl.extensions = [\"eps\", \"pdf\", \"png\", \"ps\", \"raw\", \"svg\"];\n",
       "\n",
       "mpl.default_extension = \"png\";var comm_websocket_adapter = function(comm) {\n",
       "    // Create a \"websocket\"-like object which calls the given IPython comm\n",
       "    // object with the appropriate methods. Currently this is a non binary\n",
       "    // socket, so there is still some room for performance tuning.\n",
       "    var ws = {};\n",
       "\n",
       "    ws.close = function() {\n",
       "        comm.close()\n",
       "    };\n",
       "    ws.send = function(m) {\n",
       "        //console.log('sending', m);\n",
       "        comm.send(m);\n",
       "    };\n",
       "    // Register the callback with on_msg.\n",
       "    comm.on_msg(function(msg) {\n",
       "        //console.log('receiving', msg['content']['data'], msg);\n",
       "        // Pass the mpl event to the overridden (by mpl) onmessage function.\n",
       "        ws.onmessage(msg['content']['data'])\n",
       "    });\n",
       "    return ws;\n",
       "}\n",
       "\n",
       "mpl.mpl_figure_comm = function(comm, msg) {\n",
       "    // This is the function which gets called when the mpl process\n",
       "    // starts-up an IPython Comm through the \"matplotlib\" channel.\n",
       "\n",
       "    var id = msg.content.data.id;\n",
       "    // Get hold of the div created by the display call when the Comm\n",
       "    // socket was opened in Python.\n",
       "    var element = $(\"#\" + id);\n",
       "    var ws_proxy = comm_websocket_adapter(comm)\n",
       "\n",
       "    function ondownload(figure, format) {\n",
       "        window.open(figure.imageObj.src);\n",
       "    }\n",
       "\n",
       "    var fig = new mpl.figure(id, ws_proxy,\n",
       "                           ondownload,\n",
       "                           element.get(0));\n",
       "\n",
       "    // Call onopen now - mpl needs it, as it is assuming we've passed it a real\n",
       "    // web socket which is closed, not our websocket->open comm proxy.\n",
       "    ws_proxy.onopen();\n",
       "\n",
       "    fig.parent_element = element.get(0);\n",
       "    fig.cell_info = mpl.find_output_cell(\"<div id='\" + id + \"'></div>\");\n",
       "    if (!fig.cell_info) {\n",
       "        console.error(\"Failed to find cell for figure\", id, fig);\n",
       "        return;\n",
       "    }\n",
       "\n",
       "    var output_index = fig.cell_info[2]\n",
       "    var cell = fig.cell_info[0];\n",
       "\n",
       "};\n",
       "\n",
       "mpl.figure.prototype.handle_close = function(fig, msg) {\n",
       "    var width = fig.canvas.width/mpl.ratio\n",
       "    fig.root.unbind('remove')\n",
       "\n",
       "    // Update the output cell to use the data from the current canvas.\n",
       "    fig.push_to_output();\n",
       "    var dataURL = fig.canvas.toDataURL();\n",
       "    // Re-enable the keyboard manager in IPython - without this line, in FF,\n",
       "    // the notebook keyboard shortcuts fail.\n",
       "    IPython.keyboard_manager.enable()\n",
       "    $(fig.parent_element).html('<img src=\"' + dataURL + '\" width=\"' + width + '\">');\n",
       "    fig.close_ws(fig, msg);\n",
       "}\n",
       "\n",
       "mpl.figure.prototype.close_ws = function(fig, msg){\n",
       "    fig.send_message('closing', msg);\n",
       "    // fig.ws.close()\n",
       "}\n",
       "\n",
       "mpl.figure.prototype.push_to_output = function(remove_interactive) {\n",
       "    // Turn the data on the canvas into data in the output cell.\n",
       "    var width = this.canvas.width/mpl.ratio\n",
       "    var dataURL = this.canvas.toDataURL();\n",
       "    this.cell_info[1]['text/html'] = '<img src=\"' + dataURL + '\" width=\"' + width + '\">';\n",
       "}\n",
       "\n",
       "mpl.figure.prototype.updated_canvas_event = function() {\n",
       "    // Tell IPython that the notebook contents must change.\n",
       "    IPython.notebook.set_dirty(true);\n",
       "    this.send_message(\"ack\", {});\n",
       "    var fig = this;\n",
       "    // Wait a second, then push the new image to the DOM so\n",
       "    // that it is saved nicely (might be nice to debounce this).\n",
       "    setTimeout(function () { fig.push_to_output() }, 1000);\n",
       "}\n",
       "\n",
       "mpl.figure.prototype._init_toolbar = function() {\n",
       "    var fig = this;\n",
       "\n",
       "    var nav_element = $('<div/>');\n",
       "    nav_element.attr('style', 'width: 100%');\n",
       "    this.root.append(nav_element);\n",
       "\n",
       "    // Define a callback function for later on.\n",
       "    function toolbar_event(event) {\n",
       "        return fig.toolbar_button_onclick(event['data']);\n",
       "    }\n",
       "    function toolbar_mouse_event(event) {\n",
       "        return fig.toolbar_button_onmouseover(event['data']);\n",
       "    }\n",
       "\n",
       "    for(var toolbar_ind in mpl.toolbar_items){\n",
       "        var name = mpl.toolbar_items[toolbar_ind][0];\n",
       "        var tooltip = mpl.toolbar_items[toolbar_ind][1];\n",
       "        var image = mpl.toolbar_items[toolbar_ind][2];\n",
       "        var method_name = mpl.toolbar_items[toolbar_ind][3];\n",
       "\n",
       "        if (!name) { continue; };\n",
       "\n",
       "        var button = $('<button class=\"btn btn-default\" href=\"#\" title=\"' + name + '\"><i class=\"fa ' + image + ' fa-lg\"></i></button>');\n",
       "        button.click(method_name, toolbar_event);\n",
       "        button.mouseover(tooltip, toolbar_mouse_event);\n",
       "        nav_element.append(button);\n",
       "    }\n",
       "\n",
       "    // Add the status bar.\n",
       "    var status_bar = $('<span class=\"mpl-message\" style=\"text-align:right; float: right;\"/>');\n",
       "    nav_element.append(status_bar);\n",
       "    this.message = status_bar[0];\n",
       "\n",
       "    // Add the close button to the window.\n",
       "    var buttongrp = $('<div class=\"btn-group inline pull-right\"></div>');\n",
       "    var button = $('<button class=\"btn btn-mini btn-primary\" href=\"#\" title=\"Stop Interaction\"><i class=\"fa fa-power-off icon-remove icon-large\"></i></button>');\n",
       "    button.click(function (evt) { fig.handle_close(fig, {}); } );\n",
       "    button.mouseover('Stop Interaction', toolbar_mouse_event);\n",
       "    buttongrp.append(button);\n",
       "    var titlebar = this.root.find($('.ui-dialog-titlebar'));\n",
       "    titlebar.prepend(buttongrp);\n",
       "}\n",
       "\n",
       "mpl.figure.prototype._root_extra_style = function(el){\n",
       "    var fig = this\n",
       "    el.on(\"remove\", function(){\n",
       "\tfig.close_ws(fig, {});\n",
       "    });\n",
       "}\n",
       "\n",
       "mpl.figure.prototype._canvas_extra_style = function(el){\n",
       "    // this is important to make the div 'focusable\n",
       "    el.attr('tabindex', 0)\n",
       "    // reach out to IPython and tell the keyboard manager to turn it's self\n",
       "    // off when our div gets focus\n",
       "\n",
       "    // location in version 3\n",
       "    if (IPython.notebook.keyboard_manager) {\n",
       "        IPython.notebook.keyboard_manager.register_events(el);\n",
       "    }\n",
       "    else {\n",
       "        // location in version 2\n",
       "        IPython.keyboard_manager.register_events(el);\n",
       "    }\n",
       "\n",
       "}\n",
       "\n",
       "mpl.figure.prototype._key_event_extra = function(event, name) {\n",
       "    var manager = IPython.notebook.keyboard_manager;\n",
       "    if (!manager)\n",
       "        manager = IPython.keyboard_manager;\n",
       "\n",
       "    // Check for shift+enter\n",
       "    if (event.shiftKey && event.which == 13) {\n",
       "        this.canvas_div.blur();\n",
       "        event.shiftKey = false;\n",
       "        // Send a \"J\" for go to next cell\n",
       "        event.which = 74;\n",
       "        event.keyCode = 74;\n",
       "        manager.command_mode();\n",
       "        manager.handle_keydown(event);\n",
       "    }\n",
       "}\n",
       "\n",
       "mpl.figure.prototype.handle_save = function(fig, msg) {\n",
       "    fig.ondownload(fig, null);\n",
       "}\n",
       "\n",
       "\n",
       "mpl.find_output_cell = function(html_output) {\n",
       "    // Return the cell and output element which can be found *uniquely* in the notebook.\n",
       "    // Note - this is a bit hacky, but it is done because the \"notebook_saving.Notebook\"\n",
       "    // IPython event is triggered only after the cells have been serialised, which for\n",
       "    // our purposes (turning an active figure into a static one), is too late.\n",
       "    var cells = IPython.notebook.get_cells();\n",
       "    var ncells = cells.length;\n",
       "    for (var i=0; i<ncells; i++) {\n",
       "        var cell = cells[i];\n",
       "        if (cell.cell_type === 'code'){\n",
       "            for (var j=0; j<cell.output_area.outputs.length; j++) {\n",
       "                var data = cell.output_area.outputs[j];\n",
       "                if (data.data) {\n",
       "                    // IPython >= 3 moved mimebundle to data attribute of output\n",
       "                    data = data.data;\n",
       "                }\n",
       "                if (data['text/html'] == html_output) {\n",
       "                    return [cell, data, j];\n",
       "                }\n",
       "            }\n",
       "        }\n",
       "    }\n",
       "}\n",
       "\n",
       "// Register the function which deals with the matplotlib target/channel.\n",
       "// The kernel may be null if the page has been refreshed.\n",
       "if (IPython.notebook.kernel != null) {\n",
       "    IPython.notebook.kernel.comm_manager.register_target('matplotlib', mpl.mpl_figure_comm);\n",
       "}\n"
      ],
      "text/plain": [
       "<IPython.core.display.Javascript object>"
      ]
     },
     "metadata": {},
     "output_type": "display_data"
    },
    {
     "data": {
      "text/html": [
       "<img src=\"data:image/png;base64,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\" width=\"640\">"
      ],
      "text/plain": [
       "<IPython.core.display.HTML object>"
      ]
     },
     "metadata": {},
     "output_type": "display_data"
    },
    {
     "data": {
      "text/plain": [
       "<matplotlib.patches.Polygon at 0x123d78ad0>"
      ]
     },
     "execution_count": 25,
     "metadata": {},
     "output_type": "execute_result"
    }
   ],
   "source": [
    "#matplotlib有一些常见图形的对象，这些对象被成为块（patch），例如Rectangle,Circle\n",
    "#可以在matplotlib.pyplot中找到，但完整集合位于matplotlib.patches\n",
    "#要创建一个图形，需要创建一个块对象shp,然后通过ax.add_patch(shp)添加到subplot中\n",
    "fig = plt.figure(); ax = fig.add_subplot(1, 1, 1)\n",
    "rect = plt.Rectangle((0.2, 0.75), 0.4, 0.15, color='k', alpha=0.3)\n",
    "circ = plt.Circle((0.8, 0.2), 0.15, color='b', alpha=0.3)\n",
    "#polygon多边形\n",
    "pgon = plt.Polygon([[0.15, 0.15], [0.35, 0.4], [0.2, 0.6]],\n",
    "                   color='g', alpha=0.5)\n",
    "ax.add_patch(rect)\n",
    "ax.add_patch(circ)\n",
    "ax.add_patch(pgon)"
   ]
  },
  {
   "cell_type": "markdown",
   "metadata": {},
   "source": [
    "### 将图标保存到文件"
   ]
  },
  {
   "cell_type": "code",
   "execution_count": 28,
   "metadata": {},
   "outputs": [],
   "source": [
    "#可以用plt.savefig将图标保存到文件，相当于figure对象的实例方法savefig\n",
    "#plt.savefig('haha.svg')\n",
    "#fig.savefig('jj.svg')"
   ]
  },
  {
   "cell_type": "code",
   "execution_count": 30,
   "metadata": {},
   "outputs": [],
   "source": [
    "import os\n",
    "os.remove('haha.svg')\n",
    "os.remove('jj.svg')"
   ]
  },
  {
   "cell_type": "code",
   "execution_count": 32,
   "metadata": {},
   "outputs": [],
   "source": [
    "#保存图片时常见的参数dpi(控制每英寸点数分辨率)和bbox_inches(可以减除当前图表周围的空白部分)\n",
    "#得到最小白边且分辨率为400的dpi\n",
    "plt.savefig('figpath.png',dpi=400,bbox_inches='tight')\n",
    "os.remove('figpath.png')"
   ]
  },
  {
   "cell_type": "code",
   "execution_count": 34,
   "metadata": {},
   "outputs": [],
   "source": [
    "#savefig并非一定要写入磁盘，也可以写入任何文件型的对象，比如BytesIO\n",
    "from io import BytesIO\n",
    "buffer = BytesIO()\n",
    "plt.savefig(buffer)\n",
    "plot_data = buffer.getvalue()"
   ]
  },
  {
   "cell_type": "markdown",
   "metadata": {},
   "source": [
    "### matplotlib Configuration"
   ]
  },
  {
   "cell_type": "markdown",
   "metadata": {},
   "source": [
    "matplotlib自带一些配色方案，以及为图片而设定的默认配置信息\n",
    "一种python编程方式配置系统的方法是使用rc方法。例如，要将全局的图像默认大小设置为10*10\n",
    "plt.rc('figure',figsize(10,10))\n",
    "rc的第一个参数是自定义的对象，比如figure,axes,xtick,ytick,grid,legeng\n",
    "也可与将参数写成字典\n",
    "font_options = {'family':'monospace',\n",
    "                'weight':'bold',\n",
    "                'size':'small'}\n",
    "plt.rc('font',**font_options)\n",
    "查看matplotlib的配置文件matplotlibrc（位于matplotlib/mpl-data目录中）"
   ]
  },
  {
   "cell_type": "markdown",
   "metadata": {},
   "source": [
    "## Plotting with pandas and seaborn"
   ]
  },
  {
   "cell_type": "markdown",
   "metadata": {},
   "source": [
    "### Line Plot"
   ]
  },
  {
   "cell_type": "code",
   "execution_count": 35,
   "metadata": {},
   "outputs": [],
   "source": [
    "#在pandas中，我们有多列数据，还有行和列标签，pandas自身就有内置的方法，用于\n",
    "#化简dataframe和series的绘制图形"
   ]
  },
  {
   "cell_type": "code",
   "execution_count": 38,
   "metadata": {},
   "outputs": [
    {
     "data": {
      "text/plain": [
       "0    -0.809382\n",
       "10    0.742517\n",
       "20    1.491975\n",
       "30    3.762641\n",
       "40    1.577973\n",
       "50    1.266387\n",
       "60    0.360457\n",
       "70    0.386786\n",
       "80    0.402135\n",
       "90    0.434352\n",
       "dtype: float64"
      ]
     },
     "execution_count": 38,
     "metadata": {},
     "output_type": "execute_result"
    }
   ],
   "source": [
    "#series和dataframe都有一个用于生成各类图表的plot方法，默认是生成线性图\n",
    "import numpy as np\n",
    "s = pd.Series(np.random.randn(10).cumsum(),index=np.arange(0, 100, 10))\n",
    "s"
   ]
  },
  {
   "cell_type": "code",
   "execution_count": 40,
   "metadata": {},
   "outputs": [
    {
     "data": {
      "text/plain": [
       "<matplotlib.axes._subplots.AxesSubplot at 0x127fe0a50>"
      ]
     },
     "execution_count": 40,
     "metadata": {},
     "output_type": "execute_result"
    },
    {
     "data": {
      "image/png": "[encoded data removed]",
      "text/plain": [
       "<Figure size 432x288 with 1 Axes>"
      ]
     },
     "metadata": {
      "needs_background": "light"
     },
     "output_type": "display_data"
    }
   ],
   "source": [
    "%matplotlib inline\n",
    "s.plot()  #自动将series的index做横轴，value做纵轴"
   ]
  },
  {
   "cell_type": "code",
   "execution_count": 41,
   "metadata": {},
   "outputs": [
    {
     "data": {
      "text/plain": [
       "<matplotlib.axes._subplots.AxesSubplot at 0x123dbe790>"
      ]
     },
     "execution_count": 41,
     "metadata": {},
     "output_type": "execute_result"
    },
    {
     "data": {
      "image/png": "[encoded data removed]",
      "text/plain": [
       "<Figure size 432x288 with 1 Axes>"
      ]
     },
     "metadata": {
      "needs_background": "light"
     },
     "output_type": "display_data"
    }
   ],
   "source": [
    "#series对象的索引会被传给matplotlib，并用以绘制x轴.也可以禁用该功能\n",
    "s.plot(use_index=False) "
   ]
  },
  {
   "cell_type": "code",
   "execution_count": 42,
   "metadata": {},
   "outputs": [],
   "source": [
    "#dataframe的plot方法会在一个subplot中为各列绘制一条线，并自动创建图例\n",
    "df = pd.DataFrame(np.random.randn(10, 4).cumsum(0),\n",
    "                  columns=['A', 'B', 'C', 'D'],\n",
    "                  index=np.arange(0, 100, 10))"
   ]
  },
  {
   "cell_type": "code",
   "execution_count": 43,
   "metadata": {},
   "outputs": [
    {
     "data": {
      "text/html": [
       "<div>\n",
       "<style scoped>\n",
       "    .dataframe tbody tr th:only-of-type {\n",
       "        vertical-align: middle;\n",
       "    }\n",
       "\n",
       "    .dataframe tbody tr th {\n",
       "        vertical-align: top;\n",
       "    }\n",
       "\n",
       "    .dataframe thead th {\n",
       "        text-align: right;\n",
       "    }\n",
       "</style>\n",
       "<table border=\"1\" class=\"dataframe\">\n",
       "  <thead>\n",
       "    <tr style=\"text-align: right;\">\n",
       "      <th></th>\n",
       "      <th>A</th>\n",
       "      <th>B</th>\n",
       "      <th>C</th>\n",
       "      <th>D</th>\n",
       "    </tr>\n",
       "  </thead>\n",
       "  <tbody>\n",
       "    <tr>\n",
       "      <th>0</th>\n",
       "      <td>0.033470</td>\n",
       "      <td>-0.869263</td>\n",
       "      <td>1.211443</td>\n",
       "      <td>0.829464</td>\n",
       "    </tr>\n",
       "    <tr>\n",
       "      <th>10</th>\n",
       "      <td>-0.351258</td>\n",
       "      <td>-2.047465</td>\n",
       "      <td>1.489549</td>\n",
       "      <td>0.067418</td>\n",
       "    </tr>\n",
       "    <tr>\n",
       "      <th>20</th>\n",
       "      <td>-1.749204</td>\n",
       "      <td>-0.456741</td>\n",
       "      <td>0.832147</td>\n",
       "      <td>0.429499</td>\n",
       "    </tr>\n",
       "    <tr>\n",
       "      <th>30</th>\n",
       "      <td>-2.589754</td>\n",
       "      <td>-2.085095</td>\n",
       "      <td>1.275705</td>\n",
       "      <td>0.909143</td>\n",
       "    </tr>\n",
       "    <tr>\n",
       "      <th>40</th>\n",
       "      <td>-2.193580</td>\n",
       "      <td>-2.042802</td>\n",
       "      <td>1.634714</td>\n",
       "      <td>2.586335</td>\n",
       "    </tr>\n",
       "    <tr>\n",
       "      <th>50</th>\n",
       "      <td>-1.859151</td>\n",
       "      <td>-2.301164</td>\n",
       "      <td>0.633624</td>\n",
       "      <td>4.628930</td>\n",
       "    </tr>\n",
       "    <tr>\n",
       "      <th>60</th>\n",
       "      <td>-3.435837</td>\n",
       "      <td>-3.391161</td>\n",
       "      <td>0.711695</td>\n",
       "      <td>6.678327</td>\n",
       "    </tr>\n",
       "    <tr>\n",
       "      <th>70</th>\n",
       "      <td>-3.346617</td>\n",
       "      <td>-3.953344</td>\n",
       "      <td>0.067264</td>\n",
       "      <td>8.207366</td>\n",
       "    </tr>\n",
       "    <tr>\n",
       "      <th>80</th>\n",
       "      <td>-3.465128</td>\n",
       "      <td>-4.310376</td>\n",
       "      <td>-1.313067</td>\n",
       "      <td>8.186520</td>\n",
       "    </tr>\n",
       "    <tr>\n",
       "      <th>90</th>\n",
       "      <td>-2.780994</td>\n",
       "      <td>-2.716696</td>\n",
       "      <td>0.385716</td>\n",
       "      <td>10.031511</td>\n",
       "    </tr>\n",
       "  </tbody>\n",
       "</table>\n",
       "</div>"
      ],
      "text/plain": [
       "           A         B         C          D\n",
       "0   0.033470 -0.869263  1.211443   0.829464\n",
       "10 -0.351258 -2.047465  1.489549   0.067418\n",
       "20 -1.749204 -0.456741  0.832147   0.429499\n",
       "30 -2.589754 -2.085095  1.275705   0.909143\n",
       "40 -2.193580 -2.042802  1.634714   2.586335\n",
       "50 -1.859151 -2.301164  0.633624   4.628930\n",
       "60 -3.435837 -3.391161  0.711695   6.678327\n",
       "70 -3.346617 -3.953344  0.067264   8.207366\n",
       "80 -3.465128 -4.310376 -1.313067   8.186520\n",
       "90 -2.780994 -2.716696  0.385716  10.031511"
      ]
     },
     "execution_count": 43,
     "metadata": {},
     "output_type": "execute_result"
    }
   ],
   "source": [
    "df"
   ]
  },
  {
   "cell_type": "code",
   "execution_count": 44,
   "metadata": {},
   "outputs": [
    {
     "data": {
      "text/plain": [
       "<matplotlib.axes._subplots.AxesSubplot at 0x125d8a2d0>"
      ]
     },
     "execution_count": 44,
     "metadata": {},
     "output_type": "execute_result"
    },
    {
     "data": {
      "image/png": "[encoded data removed]",
      "text/plain": [
       "<Figure size 432x288 with 1 Axes>"
      ]
     },
     "metadata": {
      "needs_background": "light"
     },
     "output_type": "display_data"
    }
   ],
   "source": [
    "df.plot()"
   ]
  },
  {
   "cell_type": "code",
   "execution_count": 45,
   "metadata": {},
   "outputs": [
    {
     "data": {
      "text/plain": [
       "<matplotlib.axes._subplots.AxesSubplot at 0x1280b0050>"
      ]
     },
     "execution_count": 45,
     "metadata": {},
     "output_type": "execute_result"
    },
    {
     "data": {
      "image/png": "[encoded data removed]",
      "text/plain": [
       "<Figure size 432x288 with 1 Axes>"
      ]
     },
     "metadata": {
      "needs_background": "light"
     },
     "output_type": "display_data"
    }
   ],
   "source": [
    "df.plot.line()   #df的plot属性的line方法"
   ]
  },
  {
   "cell_type": "code",
   "execution_count": 49,
   "metadata": {},
   "outputs": [
    {
     "data": {
      "text/plain": [
       "array([[<matplotlib.axes._subplots.AxesSubplot object at 0x12b669c10>,\n",
       "        <matplotlib.axes._subplots.AxesSubplot object at 0x12b681f50>],\n",
       "       [<matplotlib.axes._subplots.AxesSubplot object at 0x12b669510>,\n",
       "        <matplotlib.axes._subplots.AxesSubplot object at 0x12b759990>]],\n",
       "      dtype=object)"
      ]
     },
     "execution_count": 49,
     "metadata": {},
     "output_type": "execute_result"
    },
    {
     "data": {
      "image/png": "[encoded data removed]",
      "text/plain": [
       "<Figure size 432x288 with 4 Axes>"
      ]
     },
     "metadata": {
      "needs_background": "light"
     },
     "output_type": "display_data"
    }
   ],
   "source": [
    "#要将dataframe的各列绘制在一个subplot中（如上），还是画在不同的subplot中\n",
    "df.plot(subplots=True,layout=(2,2))"
   ]
  },
  {
   "cell_type": "markdown",
   "metadata": {},
   "source": [
    "### Bar Plot"
   ]
  },
  {
   "cell_type": "code",
   "execution_count": 76,
   "metadata": {},
   "outputs": [
    {
     "data": {
      "text/plain": [
       "<matplotlib.axes._subplots.AxesSubplot at 0x12beef450>"
      ]
     },
     "execution_count": 76,
     "metadata": {},
     "output_type": "execute_result"
    },
    {
     "data": {
      "image/png": "[encoded data removed]",
      "text/plain": [
       "<Figure size 432x288 with 2 Axes>"
      ]
     },
     "metadata": {
      "needs_background": "light"
     },
     "output_type": "display_data"
    }
   ],
   "source": [
    "#plot.bar()和plot.barh()分别绘制水平和垂直的柱状图\n",
    "%matplotlib inline\n",
    "data = pd.Series(np.random.rand(16), index=list('abcdefghijklmnop'))\n",
    "fig,axes = plt.subplots(2,1)\n",
    "#series和dataframe的索引会被用作x轴（bar）或y轴(barh)\n",
    "data.plot.bar(ax=axes[0],color='k',alpha=0.7)\n",
    "data.plot.barh(ax=axes[1],color='k',alpha=0.7)"
   ]
  },
  {
   "cell_type": "code",
   "execution_count": 77,
   "metadata": {},
   "outputs": [
    {
     "data": {
      "text/html": [
       "<div>\n",
       "<style scoped>\n",
       "    .dataframe tbody tr th:only-of-type {\n",
       "        vertical-align: middle;\n",
       "    }\n",
       "\n",
       "    .dataframe tbody tr th {\n",
       "        vertical-align: top;\n",
       "    }\n",
       "\n",
       "    .dataframe thead th {\n",
       "        text-align: right;\n",
       "    }\n",
       "</style>\n",
       "<table border=\"1\" class=\"dataframe\">\n",
       "  <thead>\n",
       "    <tr style=\"text-align: right;\">\n",
       "      <th>Genus</th>\n",
       "      <th>A</th>\n",
       "      <th>B</th>\n",
       "      <th>C</th>\n",
       "      <th>D</th>\n",
       "    </tr>\n",
       "  </thead>\n",
       "  <tbody>\n",
       "    <tr>\n",
       "      <th>one</th>\n",
       "      <td>0.309695</td>\n",
       "      <td>0.535272</td>\n",
       "      <td>0.074087</td>\n",
       "      <td>0.991997</td>\n",
       "    </tr>\n",
       "    <tr>\n",
       "      <th>two</th>\n",
       "      <td>0.736400</td>\n",
       "      <td>0.841873</td>\n",
       "      <td>0.150528</td>\n",
       "      <td>0.056775</td>\n",
       "    </tr>\n",
       "    <tr>\n",
       "      <th>three</th>\n",
       "      <td>0.835297</td>\n",
       "      <td>0.194635</td>\n",
       "      <td>0.350189</td>\n",
       "      <td>0.265896</td>\n",
       "    </tr>\n",
       "    <tr>\n",
       "      <th>four</th>\n",
       "      <td>0.685815</td>\n",
       "      <td>0.276550</td>\n",
       "      <td>0.241593</td>\n",
       "      <td>0.178684</td>\n",
       "    </tr>\n",
       "    <tr>\n",
       "      <th>five</th>\n",
       "      <td>0.690160</td>\n",
       "      <td>0.003130</td>\n",
       "      <td>0.968253</td>\n",
       "      <td>0.177649</td>\n",
       "    </tr>\n",
       "    <tr>\n",
       "      <th>six</th>\n",
       "      <td>0.911692</td>\n",
       "      <td>0.194764</td>\n",
       "      <td>0.521136</td>\n",
       "      <td>0.504094</td>\n",
       "    </tr>\n",
       "  </tbody>\n",
       "</table>\n",
       "</div>"
      ],
      "text/plain": [
       "Genus         A         B         C         D\n",
       "one    0.309695  0.535272  0.074087  0.991997\n",
       "two    0.736400  0.841873  0.150528  0.056775\n",
       "three  0.835297  0.194635  0.350189  0.265896\n",
       "four   0.685815  0.276550  0.241593  0.178684\n",
       "five   0.690160  0.003130  0.968253  0.177649\n",
       "six    0.911692  0.194764  0.521136  0.504094"
      ]
     },
     "execution_count": 77,
     "metadata": {},
     "output_type": "execute_result"
    }
   ],
   "source": [
    "df = pd.DataFrame(np.random.rand(6, 4),\n",
    "                  index=['one', 'two', 'three', 'four', 'five', 'six'],\n",
    "                  columns=pd.Index(['A', 'B', 'C', 'D'], name='Genus'))\n",
    "df"
   ]
  },
  {
   "cell_type": "code",
   "execution_count": 78,
   "metadata": {},
   "outputs": [
    {
     "data": {
      "text/plain": [
       "<matplotlib.axes._subplots.AxesSubplot at 0x12c077710>"
      ]
     },
     "execution_count": 78,
     "metadata": {},
     "output_type": "execute_result"
    },
    {
     "data": {
      "image/png": "[encoded data removed]",
      "text/plain": [
       "<Figure size 432x288 with 1 Axes>"
      ]
     },
     "metadata": {
      "needs_background": "light"
     },
     "output_type": "display_data"
    }
   ],
   "source": [
    "#对于dataframe而言，柱状图会将每一行的值分为一组\n",
    "#dataframe各列的名称Genus被用作图例的标题\n",
    "df.plot.bar()"
   ]
  },
  {
   "cell_type": "code",
   "execution_count": 79,
   "metadata": {},
   "outputs": [
    {
     "data": {
      "text/plain": [
       "<matplotlib.axes._subplots.AxesSubplot at 0x12c184e10>"
      ]
     },
     "execution_count": 79,
     "metadata": {},
     "output_type": "execute_result"
    },
    {
     "data": {
      "image/png": "[encoded data removed]",
      "text/plain": [
       "<Figure size 432x288 with 1 Axes>"
      ]
     },
     "metadata": {
      "needs_background": "light"
     },
     "output_type": "display_data"
    }
   ],
   "source": [
    "#df.plot.bar(stacked=True)设置堆积的柱状图\n",
    "df.plot.bar(stacked=True)"
   ]
  },
  {
   "cell_type": "code",
   "execution_count": 80,
   "metadata": {},
   "outputs": [
    {
     "data": {
      "text/plain": [
       "<matplotlib.axes._subplots.AxesSubplot at 0x12c240f90>"
      ]
     },
     "execution_count": 80,
     "metadata": {},
     "output_type": "execute_result"
    },
    {
     "data": {
      "image/png": "[encoded data removed]",
      "text/plain": [
       "<Figure size 432x288 with 1 Axes>"
      ]
     },
     "metadata": {
      "needs_background": "light"
     },
     "output_type": "display_data"
    }
   ],
   "source": [
    "df.plot.barh(stacked=True,alpha=0.5)"
   ]
  },
  {
   "cell_type": "code",
   "execution_count": 95,
   "metadata": {},
   "outputs": [
    {
     "data": {
      "text/html": [
       "<div>\n",
       "<style scoped>\n",
       "    .dataframe tbody tr th:only-of-type {\n",
       "        vertical-align: middle;\n",
       "    }\n",
       "\n",
       "    .dataframe tbody tr th {\n",
       "        vertical-align: top;\n",
       "    }\n",
       "\n",
       "    .dataframe thead th {\n",
       "        text-align: right;\n",
       "    }\n",
       "</style>\n",
       "<table border=\"1\" class=\"dataframe\">\n",
       "  <thead>\n",
       "    <tr style=\"text-align: right;\">\n",
       "      <th>size</th>\n",
       "      <th>1</th>\n",
       "      <th>2</th>\n",
       "      <th>3</th>\n",
       "      <th>4</th>\n",
       "      <th>5</th>\n",
       "      <th>6</th>\n",
       "    </tr>\n",
       "    <tr>\n",
       "      <th>day</th>\n",
       "      <th></th>\n",
       "      <th></th>\n",
       "      <th></th>\n",
       "      <th></th>\n",
       "      <th></th>\n",
       "      <th></th>\n",
       "    </tr>\n",
       "  </thead>\n",
       "  <tbody>\n",
       "    <tr>\n",
       "      <th>Fri</th>\n",
       "      <td>1</td>\n",
       "      <td>16</td>\n",
       "      <td>1</td>\n",
       "      <td>1</td>\n",
       "      <td>0</td>\n",
       "      <td>0</td>\n",
       "    </tr>\n",
       "    <tr>\n",
       "      <th>Sat</th>\n",
       "      <td>2</td>\n",
       "      <td>53</td>\n",
       "      <td>18</td>\n",
       "      <td>13</td>\n",
       "      <td>1</td>\n",
       "      <td>0</td>\n",
       "    </tr>\n",
       "    <tr>\n",
       "      <th>Sun</th>\n",
       "      <td>0</td>\n",
       "      <td>39</td>\n",
       "      <td>15</td>\n",
       "      <td>18</td>\n",
       "      <td>3</td>\n",
       "      <td>1</td>\n",
       "    </tr>\n",
       "    <tr>\n",
       "      <th>Thur</th>\n",
       "      <td>1</td>\n",
       "      <td>48</td>\n",
       "      <td>4</td>\n",
       "      <td>5</td>\n",
       "      <td>1</td>\n",
       "      <td>3</td>\n",
       "    </tr>\n",
       "  </tbody>\n",
       "</table>\n",
       "</div>"
      ],
      "text/plain": [
       "size  1   2   3   4  5  6\n",
       "day                      \n",
       "Fri   1  16   1   1  0  0\n",
       "Sat   2  53  18  13  1  0\n",
       "Sun   0  39  15  18  3  1\n",
       "Thur  1  48   4   5  1  3"
      ]
     },
     "execution_count": 95,
     "metadata": {},
     "output_type": "execute_result"
    }
   ],
   "source": [
    "#用柱状图显示series中各值出现的频率\n",
    "tips = pd.read_csv('examples/tips.csv')\n",
    "#crosstab交叉表，按类别分组，统计各个分组中的频数\n",
    "party_counts = pd.crosstab(tips['day'],tips['size'])\n",
    "party_counts"
   ]
  },
  {
   "cell_type": "code",
   "execution_count": 96,
   "metadata": {},
   "outputs": [],
   "source": [
    "party_counts = party_counts.loc[:,2:5]  #字符串标签含首尾"
   ]
  },
  {
   "cell_type": "code",
   "execution_count": 97,
   "metadata": {},
   "outputs": [
    {
     "data": {
      "text/html": [
       "<div>\n",
       "<style scoped>\n",
       "    .dataframe tbody tr th:only-of-type {\n",
       "        vertical-align: middle;\n",
       "    }\n",
       "\n",
       "    .dataframe tbody tr th {\n",
       "        vertical-align: top;\n",
       "    }\n",
       "\n",
       "    .dataframe thead th {\n",
       "        text-align: right;\n",
       "    }\n",
       "</style>\n",
       "<table border=\"1\" class=\"dataframe\">\n",
       "  <thead>\n",
       "    <tr style=\"text-align: right;\">\n",
       "      <th>size</th>\n",
       "      <th>2</th>\n",
       "      <th>3</th>\n",
       "      <th>4</th>\n",
       "      <th>5</th>\n",
       "    </tr>\n",
       "    <tr>\n",
       "      <th>day</th>\n",
       "      <th></th>\n",
       "      <th></th>\n",
       "      <th></th>\n",
       "      <th></th>\n",
       "    </tr>\n",
       "  </thead>\n",
       "  <tbody>\n",
       "    <tr>\n",
       "      <th>Fri</th>\n",
       "      <td>16</td>\n",
       "      <td>1</td>\n",
       "      <td>1</td>\n",
       "      <td>0</td>\n",
       "    </tr>\n",
       "    <tr>\n",
       "      <th>Sat</th>\n",
       "      <td>53</td>\n",
       "      <td>18</td>\n",
       "      <td>13</td>\n",
       "      <td>1</td>\n",
       "    </tr>\n",
       "    <tr>\n",
       "      <th>Sun</th>\n",
       "      <td>39</td>\n",
       "      <td>15</td>\n",
       "      <td>18</td>\n",
       "      <td>3</td>\n",
       "    </tr>\n",
       "    <tr>\n",
       "      <th>Thur</th>\n",
       "      <td>48</td>\n",
       "      <td>4</td>\n",
       "      <td>5</td>\n",
       "      <td>1</td>\n",
       "    </tr>\n",
       "  </tbody>\n",
       "</table>\n",
       "</div>"
      ],
      "text/plain": [
       "size   2   3   4  5\n",
       "day                \n",
       "Fri   16   1   1  0\n",
       "Sat   53  18  13  1\n",
       "Sun   39  15  18  3\n",
       "Thur  48   4   5  1"
      ]
     },
     "execution_count": 97,
     "metadata": {},
     "output_type": "execute_result"
    }
   ],
   "source": [
    "party_counts"
   ]
  },
  {
   "cell_type": "code",
   "execution_count": 99,
   "metadata": {},
   "outputs": [],
   "source": [
    "#进行规格化，事各行的和为1，并生成图表\n",
    "#div()除法\n",
    "party_counts.sum(1)\n",
    "party_pcts = party_counts.div(party_counts.sum(1), axis=0)"
   ]
  },
  {
   "cell_type": "code",
   "execution_count": 100,
   "metadata": {},
   "outputs": [
    {
     "data": {
      "text/html": [
       "<div>\n",
       "<style scoped>\n",
       "    .dataframe tbody tr th:only-of-type {\n",
       "        vertical-align: middle;\n",
       "    }\n",
       "\n",
       "    .dataframe tbody tr th {\n",
       "        vertical-align: top;\n",
       "    }\n",
       "\n",
       "    .dataframe thead th {\n",
       "        text-align: right;\n",
       "    }\n",
       "</style>\n",
       "<table border=\"1\" class=\"dataframe\">\n",
       "  <thead>\n",
       "    <tr style=\"text-align: right;\">\n",
       "      <th>size</th>\n",
       "      <th>2</th>\n",
       "      <th>3</th>\n",
       "      <th>4</th>\n",
       "      <th>5</th>\n",
       "    </tr>\n",
       "    <tr>\n",
       "      <th>day</th>\n",
       "      <th></th>\n",
       "      <th></th>\n",
       "      <th></th>\n",
       "      <th></th>\n",
       "    </tr>\n",
       "  </thead>\n",
       "  <tbody>\n",
       "    <tr>\n",
       "      <th>Fri</th>\n",
       "      <td>0.888889</td>\n",
       "      <td>0.055556</td>\n",
       "      <td>0.055556</td>\n",
       "      <td>0.000000</td>\n",
       "    </tr>\n",
       "    <tr>\n",
       "      <th>Sat</th>\n",
       "      <td>0.623529</td>\n",
       "      <td>0.211765</td>\n",
       "      <td>0.152941</td>\n",
       "      <td>0.011765</td>\n",
       "    </tr>\n",
       "    <tr>\n",
       "      <th>Sun</th>\n",
       "      <td>0.520000</td>\n",
       "      <td>0.200000</td>\n",
       "      <td>0.240000</td>\n",
       "      <td>0.040000</td>\n",
       "    </tr>\n",
       "    <tr>\n",
       "      <th>Thur</th>\n",
       "      <td>0.827586</td>\n",
       "      <td>0.068966</td>\n",
       "      <td>0.086207</td>\n",
       "      <td>0.017241</td>\n",
       "    </tr>\n",
       "  </tbody>\n",
       "</table>\n",
       "</div>"
      ],
      "text/plain": [
       "size         2         3         4         5\n",
       "day                                         \n",
       "Fri   0.888889  0.055556  0.055556  0.000000\n",
       "Sat   0.623529  0.211765  0.152941  0.011765\n",
       "Sun   0.520000  0.200000  0.240000  0.040000\n",
       "Thur  0.827586  0.068966  0.086207  0.017241"
      ]
     },
     "execution_count": 100,
     "metadata": {},
     "output_type": "execute_result"
    }
   ],
   "source": [
    "party_pcts"
   ]
  },
  {
   "cell_type": "code",
   "execution_count": 101,
   "metadata": {},
   "outputs": [
    {
     "data": {
      "text/plain": [
       "<matplotlib.axes._subplots.AxesSubplot at 0x12c3fd610>"
      ]
     },
     "execution_count": 101,
     "metadata": {},
     "output_type": "execute_result"
    },
    {
     "data": {
      "image/png": "[encoded data removed]",
      "text/plain": [
       "<Figure size 432x288 with 1 Axes>"
      ]
     },
     "metadata": {
      "needs_background": "light"
     },
     "output_type": "display_data"
    }
   ],
   "source": [
    "party_pcts.plot.bar()"
   ]
  },
  {
   "cell_type": "code",
   "execution_count": 107,
   "metadata": {},
   "outputs": [],
   "source": [
    "#在绘制一个图形前，需要合计的数据，使用seaborn可以减少工作量"
   ]
  },
  {
   "cell_type": "code",
   "execution_count": 108,
   "metadata": {},
   "outputs": [],
   "source": [
    "import seaborn as sns"
   ]
  },
  {
   "cell_type": "code",
   "execution_count": 109,
   "metadata": {},
   "outputs": [
    {
     "data": {
      "text/html": [
       "<div>\n",
       "<style scoped>\n",
       "    .dataframe tbody tr th:only-of-type {\n",
       "        vertical-align: middle;\n",
       "    }\n",
       "\n",
       "    .dataframe tbody tr th {\n",
       "        vertical-align: top;\n",
       "    }\n",
       "\n",
       "    .dataframe thead th {\n",
       "        text-align: right;\n",
       "    }\n",
       "</style>\n",
       "<table border=\"1\" class=\"dataframe\">\n",
       "  <thead>\n",
       "    <tr style=\"text-align: right;\">\n",
       "      <th></th>\n",
       "      <th>total_bill</th>\n",
       "      <th>tip</th>\n",
       "      <th>smoker</th>\n",
       "      <th>day</th>\n",
       "      <th>time</th>\n",
       "      <th>size</th>\n",
       "      <th>tip_pct</th>\n",
       "    </tr>\n",
       "  </thead>\n",
       "  <tbody>\n",
       "    <tr>\n",
       "      <th>0</th>\n",
       "      <td>16.99</td>\n",
       "      <td>1.01</td>\n",
       "      <td>No</td>\n",
       "      <td>Sun</td>\n",
       "      <td>Dinner</td>\n",
       "      <td>2</td>\n",
       "      <td>0.063204</td>\n",
       "    </tr>\n",
       "    <tr>\n",
       "      <th>1</th>\n",
       "      <td>10.34</td>\n",
       "      <td>1.66</td>\n",
       "      <td>No</td>\n",
       "      <td>Sun</td>\n",
       "      <td>Dinner</td>\n",
       "      <td>3</td>\n",
       "      <td>0.191244</td>\n",
       "    </tr>\n",
       "    <tr>\n",
       "      <th>2</th>\n",
       "      <td>21.01</td>\n",
       "      <td>3.50</td>\n",
       "      <td>No</td>\n",
       "      <td>Sun</td>\n",
       "      <td>Dinner</td>\n",
       "      <td>3</td>\n",
       "      <td>0.199886</td>\n",
       "    </tr>\n",
       "    <tr>\n",
       "      <th>3</th>\n",
       "      <td>23.68</td>\n",
       "      <td>3.31</td>\n",
       "      <td>No</td>\n",
       "      <td>Sun</td>\n",
       "      <td>Dinner</td>\n",
       "      <td>2</td>\n",
       "      <td>0.162494</td>\n",
       "    </tr>\n",
       "    <tr>\n",
       "      <th>4</th>\n",
       "      <td>24.59</td>\n",
       "      <td>3.61</td>\n",
       "      <td>No</td>\n",
       "      <td>Sun</td>\n",
       "      <td>Dinner</td>\n",
       "      <td>4</td>\n",
       "      <td>0.172069</td>\n",
       "    </tr>\n",
       "  </tbody>\n",
       "</table>\n",
       "</div>"
      ],
      "text/plain": [
       "   total_bill   tip smoker  day    time  size   tip_pct\n",
       "0       16.99  1.01     No  Sun  Dinner     2  0.063204\n",
       "1       10.34  1.66     No  Sun  Dinner     3  0.191244\n",
       "2       21.01  3.50     No  Sun  Dinner     3  0.199886\n",
       "3       23.68  3.31     No  Sun  Dinner     2  0.162494\n",
       "4       24.59  3.61     No  Sun  Dinner     4  0.172069"
      ]
     },
     "execution_count": 109,
     "metadata": {},
     "output_type": "execute_result"
    }
   ],
   "source": [
    "tips['tip_pct'] = tips['tip'] / (tips['total_bill'] - tips['tip'])\n",
    "tips.head()"
   ]
  },
  {
   "cell_type": "code",
   "execution_count": 116,
   "metadata": {},
   "outputs": [
    {
     "data": {
      "text/plain": [
       "<matplotlib.axes._subplots.AxesSubplot at 0x12b197e90>"
      ]
     },
     "execution_count": 116,
     "metadata": {},
     "output_type": "execute_result"
    },
    {
     "data": {
      "image/png": "[encoded data removed]",
      "text/plain": [
       "<Figure size 432x288 with 1 Axes>"
      ]
     },
     "metadata": {
      "needs_background": "light"
     },
     "output_type": "display_data"
    }
   ],
   "source": [
    "sns.barplot(x='tip_pct', y='day', data=tips, orient='h')\n",
    "#orient='h' 水平  'v'垂直\n",
    "#柱状图的值是tip_pct的平均值，柱状图的黑线代表95%的执行区间"
   ]
  },
  {
   "cell_type": "code",
   "execution_count": 118,
   "metadata": {},
   "outputs": [
    {
     "data": {
      "text/plain": [
       "<matplotlib.axes._subplots.AxesSubplot at 0x12b37d190>"
      ]
     },
     "execution_count": 118,
     "metadata": {},
     "output_type": "execute_result"
    },
    {
     "data": {
      "image/png": "[encoded data removed]",
      "text/plain": [
       "<Figure size 432x288 with 1 Axes>"
      ]
     },
     "metadata": {
      "needs_background": "light"
     },
     "output_type": "display_data"
    }
   ],
   "source": [
    "#sns.barplot()有颜色选项\n",
    "#hue：颜色\n",
    "#从结果中可以看出sun，sat中没有lunch\n",
    "sns.barplot(x='tip_pct', y='day', hue='time', data=tips, orient='h')"
   ]
  },
  {
   "cell_type": "code",
   "execution_count": 119,
   "metadata": {},
   "outputs": [],
   "source": [
    "sns.set(style='whitegrid')   #设置白色网格"
   ]
  },
  {
   "cell_type": "code",
   "execution_count": 120,
   "metadata": {},
   "outputs": [
    {
     "data": {
      "text/plain": [
       "<matplotlib.axes._subplots.AxesSubplot at 0x12b46cf10>"
      ]
     },
     "execution_count": 120,
     "metadata": {},
     "output_type": "execute_result"
    },
    {
     "data": {
      "image/png": "[encoded data removed]",
      "text/plain": [
       "<Figure size 432x288 with 1 Axes>"
      ]
     },
     "metadata": {},
     "output_type": "display_data"
    }
   ],
   "source": [
    "sns.barplot(x='tip_pct', y='day', hue='time', data=tips, orient='h')"
   ]
  },
  {
   "cell_type": "markdown",
   "metadata": {},
   "source": [
    "### Histograms and Density Plots"
   ]
  },
  {
   "cell_type": "code",
   "execution_count": 122,
   "metadata": {},
   "outputs": [
    {
     "data": {
      "text/plain": [
       "<matplotlib.axes._subplots.AxesSubplot at 0x12b4fe090>"
      ]
     },
     "execution_count": 122,
     "metadata": {},
     "output_type": "execute_result"
    },
    {
     "data": {
      "image/png": "[encoded data removed]",
      "text/plain": [
       "<Figure size 432x288 with 1 Axes>"
      ]
     },
     "metadata": {},
     "output_type": "display_data"
    }
   ],
   "source": [
    "#histogram直方图\n",
    "#直方图：将数据拆分到离散的、间隔均匀的面元中，绘制各个面元中数据点的数量\n",
    "tips['tip_pct'].plot.hist(bins=50)"
   ]
  },
  {
   "cell_type": "code",
   "execution_count": 123,
   "metadata": {},
   "outputs": [
    {
     "data": {
      "text/plain": [
       "<matplotlib.axes._subplots.AxesSubplot at 0x13a7c1690>"
      ]
     },
     "execution_count": 123,
     "metadata": {},
     "output_type": "execute_result"
    },
    {
     "data": {
      "image/png": "[encoded data removed]",
      "text/plain": [
       "<Figure size 432x288 with 1 Axes>"
      ]
     },
     "metadata": {},
     "output_type": "display_data"
    }
   ],
   "source": [
    "#与hist相关的一种密度图\n",
    "#密度图也称为核密度（KDE,kernel density estimate）\n",
    "tips['tip_pct'].plot.density()  #生成密度函数"
   ]
  },
  {
   "cell_type": "code",
   "execution_count": 124,
   "metadata": {},
   "outputs": [],
   "source": [
    "#seaborn的distplot方法绘制直方图和密度图更加简单,可以同时画出直方图和密度图\n",
    "#考虑一个双峰分布，由两个不同的标准正太分布组成\n",
    "comp1 = np.random.normal(0,1,size=200)\n",
    "comp2 = np.random.normal(10,2,size=200)\n",
    "values = pd.Series(np.concatenate([comp1,comp2]))"
   ]
  },
  {
   "cell_type": "code",
   "execution_count": 127,
   "metadata": {},
   "outputs": [
    {
     "data": {
      "text/plain": [
       "<matplotlib.axes._subplots.AxesSubplot at 0x12b4759d0>"
      ]
     },
     "execution_count": 127,
     "metadata": {},
     "output_type": "execute_result"
    },
    {
     "data": {
      "image/png": "[encoded data removed]",
      "text/plain": [
       "<Figure size 432x288 with 1 Axes>"
      ]
     },
     "metadata": {},
     "output_type": "display_data"
    }
   ],
   "source": [
    "sns.distplot(values,bins=100,color='k')"
   ]
  },
  {
   "cell_type": "markdown",
   "metadata": {},
   "source": [
    "### Scatter or Point Plots"
   ]
  },
  {
   "cell_type": "code",
   "execution_count": 139,
   "metadata": {},
   "outputs": [],
   "source": [
    "macro = pd.read_csv('examples/macrodata.csv')\n",
    "data = macro[['cpi','m1','tbilrate','unemp']]"
   ]
  },
  {
   "cell_type": "code",
   "execution_count": 136,
   "metadata": {},
   "outputs": [],
   "source": [
    "trans_data = np.log(data).diff().dropna()"
   ]
  },
  {
   "cell_type": "code",
   "execution_count": 137,
   "metadata": {},
   "outputs": [
    {
     "data": {
      "text/html": [
       "<div>\n",
       "<style scoped>\n",
       "    .dataframe tbody tr th:only-of-type {\n",
       "        vertical-align: middle;\n",
       "    }\n",
       "\n",
       "    .dataframe tbody tr th {\n",
       "        vertical-align: top;\n",
       "    }\n",
       "\n",
       "    .dataframe thead th {\n",
       "        text-align: right;\n",
       "    }\n",
       "</style>\n",
       "<table border=\"1\" class=\"dataframe\">\n",
       "  <thead>\n",
       "    <tr style=\"text-align: right;\">\n",
       "      <th></th>\n",
       "      <th>cpi</th>\n",
       "      <th>m1</th>\n",
       "      <th>tbilrate</th>\n",
       "      <th>unemp</th>\n",
       "    </tr>\n",
       "  </thead>\n",
       "  <tbody>\n",
       "    <tr>\n",
       "      <th>198</th>\n",
       "      <td>-0.007904</td>\n",
       "      <td>0.045361</td>\n",
       "      <td>-0.396881</td>\n",
       "      <td>0.105361</td>\n",
       "    </tr>\n",
       "    <tr>\n",
       "      <th>199</th>\n",
       "      <td>-0.021979</td>\n",
       "      <td>0.066753</td>\n",
       "      <td>-2.277267</td>\n",
       "      <td>0.139762</td>\n",
       "    </tr>\n",
       "    <tr>\n",
       "      <th>200</th>\n",
       "      <td>0.002340</td>\n",
       "      <td>0.010286</td>\n",
       "      <td>0.606136</td>\n",
       "      <td>0.160343</td>\n",
       "    </tr>\n",
       "    <tr>\n",
       "      <th>201</th>\n",
       "      <td>0.008419</td>\n",
       "      <td>0.037461</td>\n",
       "      <td>-0.200671</td>\n",
       "      <td>0.127339</td>\n",
       "    </tr>\n",
       "    <tr>\n",
       "      <th>202</th>\n",
       "      <td>0.008894</td>\n",
       "      <td>0.012202</td>\n",
       "      <td>-0.405465</td>\n",
       "      <td>0.042560</td>\n",
       "    </tr>\n",
       "  </tbody>\n",
       "</table>\n",
       "</div>"
      ],
      "text/plain": [
       "          cpi        m1  tbilrate     unemp\n",
       "198 -0.007904  0.045361 -0.396881  0.105361\n",
       "199 -0.021979  0.066753 -2.277267  0.139762\n",
       "200  0.002340  0.010286  0.606136  0.160343\n",
       "201  0.008419  0.037461 -0.200671  0.127339\n",
       "202  0.008894  0.012202 -0.405465  0.042560"
      ]
     },
     "execution_count": 137,
     "metadata": {},
     "output_type": "execute_result"
    }
   ],
   "source": [
    "trans_data[-5:]"
   ]
  },
  {
   "cell_type": "code",
   "execution_count": 142,
   "metadata": {},
   "outputs": [
    {
     "data": {
      "text/plain": [
       "Text(0.5, 1.0, 'Changes in log m1 versus log unemp')"
      ]
     },
     "execution_count": 142,
     "metadata": {},
     "output_type": "execute_result"
    },
    {
     "data": {
      "image/png": "[encoded data removed]",
      "text/plain": [
       "<Figure size 432x288 with 1 Axes>"
      ]
     },
     "metadata": {},
     "output_type": "display_data"
    }
   ],
   "source": [
    "#使用seaborn的regplot方法做一个散布图，并加一条线性回归线\n",
    "sns.regplot('m1','unemp',data=trans_data)\n",
    "plt.title('Changes in log %s versus log %s' % ('m1', 'unemp'))"
   ]
  },
  {
   "cell_type": "code",
   "execution_count": 144,
   "metadata": {},
   "outputs": [
    {
     "data": {
      "text/plain": [
       "<seaborn.axisgrid.PairGrid at 0x13d5ebdd0>"
      ]
     },
     "execution_count": 144,
     "metadata": {},
     "output_type": "execute_result"
    },
    {
     "data": {
      "image/png": "[encoded data removed]",
      "text/plain": [
       "<Figure size 720x720 with 20 Axes>"
      ]
     },
     "metadata": {},
     "output_type": "display_data"
    }
   ],
   "source": [
    "#在探索式数据分析工作中，同时观察一组变量的散布图是很有意义的，这也被称为\n",
    "#散布图矩阵（scatter plot matrix）\n",
    "#seaborn可以通过pairplot函数，支持在对角线上防止每个变量的直方图或密度图\n",
    "\n",
    "sns.pairplot(trans_data,diag_kind='kde',plot_kws={'alpha': 0.2})\n",
    "#diag_kind='hist'\n",
    "#diag_kind:对角线的类型是密度图（kde）\n",
    "#plot_kws：关键字参数传递配置选项到非对角线元素的图像上"
   ]
  },
  {
   "cell_type": "markdown",
   "metadata": {},
   "source": [
    "### Facet Grids and Categorical Data"
   ]
  },
  {
   "cell_type": "code",
   "execution_count": 145,
   "metadata": {},
   "outputs": [
    {
     "name": "stderr",
     "output_type": "stream",
     "text": [
      "/usr/local/lib/python3.7/site-packages/seaborn/categorical.py:3666: UserWarning: The `factorplot` function has been renamed to `catplot`. The original name will be removed in a future release. Please update your code. Note that the default `kind` in `factorplot` (`'point'`) has changed `'strip'` in `catplot`.\n",
      "  warnings.warn(msg)\n"
     ]
    },
    {
     "data": {
      "text/plain": [
       "<seaborn.axisgrid.FacetGrid at 0x13a10ccd0>"
      ]
     },
     "execution_count": 145,
     "metadata": {},
     "output_type": "execute_result"
    },
    {
     "data": {
      "image/png": "[encoded data removed]",
      "text/plain": [
       "<Figure size 792.225x360 with 2 Axes>"
      ]
     },
     "metadata": {},
     "output_type": "display_data"
    }
   ],
   "source": [
    "#小面网格\n",
    "#有多个分类变量的数据可视化的一种方法是使用小面网格\n",
    "#这里分类变量是smoker\n",
    "sns.factorplot(x='day', y='tip_pct', hue='time', col='smoker',\n",
    "               kind='bar', data=tips[tips.tip_pct < 1])"
   ]
  },
  {
   "cell_type": "code",
   "execution_count": 146,
   "metadata": {},
   "outputs": [
    {
     "data": {
      "text/html": [
       "<div>\n",
       "<style scoped>\n",
       "    .dataframe tbody tr th:only-of-type {\n",
       "        vertical-align: middle;\n",
       "    }\n",
       "\n",
       "    .dataframe tbody tr th {\n",
       "        vertical-align: top;\n",
       "    }\n",
       "\n",
       "    .dataframe thead th {\n",
       "        text-align: right;\n",
       "    }\n",
       "</style>\n",
       "<table border=\"1\" class=\"dataframe\">\n",
       "  <thead>\n",
       "    <tr style=\"text-align: right;\">\n",
       "      <th></th>\n",
       "      <th>total_bill</th>\n",
       "      <th>tip</th>\n",
       "      <th>smoker</th>\n",
       "      <th>day</th>\n",
       "      <th>time</th>\n",
       "      <th>size</th>\n",
       "      <th>tip_pct</th>\n",
       "    </tr>\n",
       "  </thead>\n",
       "  <tbody>\n",
       "    <tr>\n",
       "      <th>0</th>\n",
       "      <td>16.99</td>\n",
       "      <td>1.01</td>\n",
       "      <td>No</td>\n",
       "      <td>Sun</td>\n",
       "      <td>Dinner</td>\n",
       "      <td>2</td>\n",
       "      <td>0.063204</td>\n",
       "    </tr>\n",
       "    <tr>\n",
       "      <th>1</th>\n",
       "      <td>10.34</td>\n",
       "      <td>1.66</td>\n",
       "      <td>No</td>\n",
       "      <td>Sun</td>\n",
       "      <td>Dinner</td>\n",
       "      <td>3</td>\n",
       "      <td>0.191244</td>\n",
       "    </tr>\n",
       "    <tr>\n",
       "      <th>2</th>\n",
       "      <td>21.01</td>\n",
       "      <td>3.50</td>\n",
       "      <td>No</td>\n",
       "      <td>Sun</td>\n",
       "      <td>Dinner</td>\n",
       "      <td>3</td>\n",
       "      <td>0.199886</td>\n",
       "    </tr>\n",
       "    <tr>\n",
       "      <th>3</th>\n",
       "      <td>23.68</td>\n",
       "      <td>3.31</td>\n",
       "      <td>No</td>\n",
       "      <td>Sun</td>\n",
       "      <td>Dinner</td>\n",
       "      <td>2</td>\n",
       "      <td>0.162494</td>\n",
       "    </tr>\n",
       "    <tr>\n",
       "      <th>4</th>\n",
       "      <td>24.59</td>\n",
       "      <td>3.61</td>\n",
       "      <td>No</td>\n",
       "      <td>Sun</td>\n",
       "      <td>Dinner</td>\n",
       "      <td>4</td>\n",
       "      <td>0.172069</td>\n",
       "    </tr>\n",
       "  </tbody>\n",
       "</table>\n",
       "</div>"
      ],
      "text/plain": [
       "   total_bill   tip smoker  day    time  size   tip_pct\n",
       "0       16.99  1.01     No  Sun  Dinner     2  0.063204\n",
       "1       10.34  1.66     No  Sun  Dinner     3  0.191244\n",
       "2       21.01  3.50     No  Sun  Dinner     3  0.199886\n",
       "3       23.68  3.31     No  Sun  Dinner     2  0.162494\n",
       "4       24.59  3.61     No  Sun  Dinner     4  0.172069"
      ]
     },
     "execution_count": 146,
     "metadata": {},
     "output_type": "execute_result"
    }
   ],
   "source": [
    "tips.head()"
   ]
  },
  {
   "cell_type": "code",
   "execution_count": 147,
   "metadata": {},
   "outputs": [
    {
     "data": {
      "text/plain": [
       "<seaborn.axisgrid.FacetGrid at 0x13a2c3650>"
      ]
     },
     "execution_count": 147,
     "metadata": {},
     "output_type": "execute_result"
    },
    {
     "data": {
      "image/png": "[encoded data removed]",
      "text/plain": [
       "<Figure size 720x720 with 4 Axes>"
      ]
     },
     "metadata": {},
     "output_type": "display_data"
    }
   ],
   "source": [
    "#除了在每个分面中使用不同颜色按时间分组，还可以通过给每个时间值添加一行来拓展分面网格\n",
    "#相当于有两个分类变量，一个是time,一个是smoker\n",
    "sns.factorplot(x='day', y='tip_pct', row='time',\n",
    "               col='smoker',\n",
    "               kind='bar', data=tips[tips.tip_pct < 1])"
   ]
  },
  {
   "cell_type": "code",
   "execution_count": 148,
   "metadata": {},
   "outputs": [
    {
     "data": {
      "text/plain": [
       "<seaborn.axisgrid.FacetGrid at 0x13d504590>"
      ]
     },
     "execution_count": 148,
     "metadata": {},
     "output_type": "execute_result"
    },
    {
     "data": {
      "image/png": "[encoded data removed]",
      "text/plain": [
       "<Figure size 360x360 with 1 Axes>"
      ]
     },
     "metadata": {},
     "output_type": "display_data"
    }
   ],
   "source": [
    "#sns.factorplot还支持其他绘图类型，例如盒图（它可以显示中位数，四分位数，异常值等）\n",
    "sns.factorplot(x='tip_pct', y='day', kind='box',\n",
    "               data=tips[tips.tip_pct < 0.5])"
   ]
  },
  {
   "cell_type": "code",
   "execution_count": 149,
   "metadata": {},
   "outputs": [],
   "source": [
    "#使用更为通用的seaborn.FacetGrid类，你可以创建自己的分面网格"
   ]
  },
  {
   "cell_type": "code",
   "execution_count": null,
   "metadata": {},
   "outputs": [],
   "source": [
    "#创建动态交互图可以使用Boken库,Plotly库"
   ]
  }
 ],
 "metadata": {
  "kernelspec": {
   "display_name": "Python 3",
   "language": "python",
   "name": "python3"
  },
  "language_info": {
   "codemirror_mode": {
    "name": "ipython",
    "version": 3
   },
   "file_extension": ".py",
   "mimetype": "text/x-python",
   "name": "python",
   "nbconvert_exporter": "python",
   "pygments_lexer": "ipython3",
   "version": "3.7.4"
  }
 },
 "nbformat": 4,
 "nbformat_minor": 2
}
